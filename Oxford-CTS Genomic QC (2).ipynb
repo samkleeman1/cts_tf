{
 "cells": [
  {
   "cell_type": "markdown",
   "metadata": {},
   "source": [
    "# Oxford-CTS Genomic QC"
   ]
  },
  {
   "cell_type": "markdown",
   "metadata": {},
   "source": [
    "## Load Hail"
   ]
  },
  {
   "cell_type": "code",
   "execution_count": null,
   "metadata": {},
   "outputs": [],
   "source": [
    "import seaborn as sns\n",
    "import hail as hl\n",
    "import os\n",
    "from gnomad.utils.liftover import *\n",
    "from gnomad.utils.annotations import *\n",
    "from gnomad.sample_qc.pipeline import *\n",
    "from gnomad.sample_qc.ancestry import *\n",
    "\n",
    "tmp = \"/mnt/grid/janowitz/home/skleeman/tmp2\"\n",
    "os.environ[\"SPARK_LOCAL_DIRS\"]=tmp\n",
    "\n",
    "os.environ[\"PYSPARK_SUBMIT_ARGS\"] =\"--driver-memory 200g --executor-memory 2g pyspark-shell\"\n",
    " \n",
    "hl.init(default_reference='GRCh37', master='local[8]',min_block_size=128, local_tmpdir=tmp, tmp_dir=tmp)\n",
    "\n"
   ]
  },
  {
   "cell_type": "markdown",
   "metadata": {},
   "source": [
    "## Import data\n",
    "\n",
    "Import HRC-imputed (GRCh37) genotype data"
   ]
  },
  {
   "cell_type": "code",
   "execution_count": 14,
   "metadata": {},
   "outputs": [
    {
     "name": "stderr",
     "output_type": "stream",
     "text": [
      "2021-08-27 12:38:04 Hail: INFO: Coerced almost-sorted dataset\n",
      "2021-08-27 12:38:04 Hail: INFO: Coerced dataset with out-of-order partitions.\n",
      "2021-08-27 12:52:34 Hail: INFO: wrote matrix table with 39131578 rows and 159 columns in 23 partitions to /mnt/grid/janowitz/rdata/trigger/imputation_gwas/raw_cts.mt\n",
      "    Total size: 6.94 GiB\n",
      "    * Rows/entries: 6.94 GiB\n",
      "    * Columns: 672.00 B\n",
      "    * Globals: 11.00 B\n",
      "    * Smallest partition: 531276 rows (102.76 MiB)\n",
      "    * Largest partition:  3069931 rows (551.82 MiB)\n"
     ]
    }
   ],
   "source": [
    "mt = hl.import_vcf('/mnt/grid/janowitz/rdata/trigger/imputation_gwas/*.vcf.gz', force_bgz=True,\n",
    "                   reference_genome='GRCh37')\n",
    "mt = mt.checkpoint('/mnt/grid/janowitz/rdata/trigger/imputation_gwas/raw_cts.mt', overwrite=True)\n"
   ]
  },
  {
   "cell_type": "markdown",
   "metadata": {},
   "source": [
    "## Generate QC-ready cohort"
   ]
  },
  {
   "cell_type": "code",
   "execution_count": 15,
   "metadata": {},
   "outputs": [
    {
     "name": "stderr",
     "output_type": "stream",
     "text": [
      "INFO (gnomad.utils.liftover 115): Inferring input reference and destination reference...\n",
      "INFO (gnomad.utils.liftover 41): Inferring reference genome of input...\n",
      "INFO (gnomad.utils.liftover 45): Loading fasta sequence for destination build...\n",
      "INFO (gnomad.utils.liftover 54): Adding liftover chain to input build...\n",
      "INFO (gnomad.utils.liftover 118): Annotating input data with liftover coordinates...\n",
      "INFO (gnomad.utils.liftover 133): Filtering out 1912 sites that failed to liftover...\n",
      "2021-08-27 12:53:29 Hail: INFO: Reading table without type imputation\n",
      "  Loading field 'f0' as type str (user-supplied)\n",
      "  Loading field 'f1' as type int32 (user-supplied)\n",
      "  Loading field 'f2' as type int32 (user-supplied)\n",
      "2021-08-27 12:53:30 Hail: INFO: ld_prune: running local pruning stage with max queue size of 745655 variants\n",
      "2021-08-27 12:55:03 Hail: INFO: Ordering unsorted dataset with network shuffle\n",
      "2021-08-27 12:55:03 Hail: INFO: Ordering unsorted dataset with network shuffle\n",
      "2021-08-27 12:57:44 Hail: INFO: wrote table with 146259 rows in 23 partitions to /mnt/grid/janowitz/home/skleeman/tmp2/5oN9qXluouZcr5eM0y4Bce\n",
      "    Total size: 3.11 MiB\n",
      "    * Rows: 3.11 MiB\n",
      "    * Globals: 11.00 B\n",
      "    * Smallest partition: 2493 rows (55.21 KiB)\n",
      "    * Largest partition:  11056 rows (239.65 KiB)\n",
      "2021-08-27 12:58:56 Hail: INFO: Ordering unsorted dataset with network shuffle\n",
      "2021-08-27 12:58:57 Hail: INFO: Ordering unsorted dataset with network shuffle\n",
      "2021-08-27 13:01:33 Hail: INFO: Wrote all 36 blocks of 146259 x 159 matrix with block size 4096.\n",
      "2021-08-27 13:04:40 Hail: INFO: wrote table with 193 rows in 71 partitions to /mnt/grid/janowitz/home/skleeman/tmp2/DLYrrKOejeM6tbxhV8uLwR\n",
      "    Total size: 1.28 MiB\n",
      "    * Rows: 5.00 KiB\n",
      "    * Globals: 1.28 MiB\n",
      "    * Smallest partition: 0 rows (21.00 B)\n",
      "    * Largest partition:  21 rows (339.00 B)\n",
      "2021-08-27 13:05:55 Hail: INFO: Ordering unsorted dataset with network shuffle\n",
      "2021-08-27 13:05:56 Hail: INFO: Ordering unsorted dataset with network shuffle\n"
     ]
    },
    {
     "name": "stdout",
     "output_type": "stream",
     "text": [
      "(146110, 159)\n"
     ]
    },
    {
     "name": "stderr",
     "output_type": "stream",
     "text": [
      "2021-08-27 13:09:03 Hail: INFO: Ordering unsorted dataset with network shuffle\n",
      "2021-08-27 13:09:03 Hail: INFO: Ordering unsorted dataset with network shuffle\n",
      "2021-08-27 13:11:52 Hail: INFO: wrote matrix table with 146110 rows and 159 columns in 23 partitions to /mnt/grid/janowitz/rdata/trigger/imputation_gwas/qc_cts.mt\n",
      "    Total size: 27.72 MiB\n",
      "    * Rows/entries: 27.72 MiB\n",
      "    * Columns: 644.00 B\n",
      "    * Globals: 11.00 B\n",
      "    * Smallest partition: 2492 rows (474.32 KiB)\n",
      "    * Largest partition:  11055 rows (2.09 MiB)\n"
     ]
    }
   ],
   "source": [
    "qc_mt = mt.filter_rows(mt.info.INFO == 1)\n",
    "\n",
    "qc_mt = default_lift_data(qc_mt) #GNOMAD pipeline for liftover to GRCh38, including reverse complement on negative strand\n",
    "\n",
    "#Filtering\n",
    "\n",
    "qc_mt = hl.variant_qc(qc_mt) #Default Hail variant QC pipeline\n",
    "qc_mt = qc_mt.filter_rows((hl.len(qc_mt.alleles) == 2) & hl.is_snp(qc_mt.alleles[0], qc_mt.alleles[1]))\n",
    "qc_mt = qc_mt.filter_rows(qc_mt.ref_allele_mismatch == False) #Remove alleles with reference mismatch ('allele flips')\n",
    "qc_mt = qc_mt.filter_rows(qc_mt.variant_qc.AF[1] > 0.01) #MAF > 1!\n",
    "\n",
    "#Exclude LD intervals from plinkQC package, LD pruning in PLINK (not working in Hail due to bug)\n",
    "intervals = hl.import_bed('/mnt/grid/janowitz/home/skleeman/ukbiobank/cancergwas/remove_ld_grch38.bed',\n",
    "                         reference_genome='GRCh38')\n",
    "qc_mt = qc_mt.filter_rows(hl.is_defined(intervals[qc_mt.locus]),keep=False)\n",
    "\n",
    "pruned_variant_table = hl.ld_prune(qc_mt.GT, r2=0.1)\n",
    "qc_mt = qc_mt.filter_rows(hl.is_defined(pruned_variant_table[qc_mt.row_key]))\n",
    "\n",
    "print(qc_mt.count())\n",
    "qc_mt.write('/mnt/grid/janowitz/rdata/trigger/imputation_gwas/qc_cts.mt', overwrite=True)"
   ]
  },
  {
   "cell_type": "markdown",
   "metadata": {},
   "source": [
    "## Ancestry classification"
   ]
  },
  {
   "cell_type": "code",
   "execution_count": 16,
   "metadata": {},
   "outputs": [
    {
     "name": "stdout",
     "output_type": "stream",
     "text": [
      "sites in ref and TCGA data, inds in TCGA: (144737, 159)\n",
      "sites in ref and TCGA data, inds in ref: (144737, 3942)\n"
     ]
    },
    {
     "name": "stderr",
     "output_type": "stream",
     "text": [
      "2021-08-27 13:24:15 Hail: INFO: wrote matrix table with 144737 rows and 159 columns in 23 partitions to /mnt/grid/janowitz/rdata/trigger/imputation_gwas/hail/tcga_in_ref.mt\n",
      "    Total size: 41.23 MiB\n",
      "    * Rows/entries: 41.23 MiB\n",
      "    * Columns: 672.00 B\n",
      "    * Globals: 11.00 B\n",
      "    * Smallest partition: 2439 rows (725.94 KiB)\n",
      "    * Largest partition:  10959 rows (3.11 MiB)\n",
      "2021-08-27 14:13:06 Hail: INFO: wrote matrix table with 144737 rows and 3942 columns in 250 partitions to /mnt/grid/janowitz/rdata/trigger/imputation_gwas/hail/ref_in_tcga.mt\n",
      "    Total size: 4.43 GiB\n",
      "    * Rows/entries: 4.43 GiB\n",
      "    * Columns: 1.11 MiB\n",
      "    * Globals: 7.71 KiB\n",
      "    * Smallest partition: 0 rows (20.00 B)\n",
      "    * Largest partition:  1298 rows (43.48 MiB)\n",
      "2021-08-27 14:13:07 Hail: WARN: cols(): Resulting column table is sorted by 'col_key'.\n",
      "    To preserve matrix table column order, first unkey columns with 'key_cols_by()'\n",
      "2021-08-27 14:13:08 Hail: INFO: Coerced sorted dataset\n",
      "2021-08-27 14:13:17 Hail: INFO: hwe_normalized_pca: running PCA using 144736 variants.\n",
      "2021-08-27 14:13:18 Hail: INFO: Coerced sorted dataset\n",
      "2021-08-27 14:13:27 Hail: INFO: pca: running PCA with 10 components...\n",
      "2021-08-27 14:14:16 Hail: INFO: Coerced sorted dataset\n",
      "2021-08-27 14:14:16 Hail: INFO: Coerced sorted dataset\n",
      "2021-08-27 14:14:17 Hail: INFO: Ordering unsorted dataset with network shuffle\n",
      "2021-08-27 14:14:31 Hail: INFO: Ordering unsorted dataset with network shuffle\n",
      "2021-08-27 14:14:35 Hail: INFO: Coerced sorted dataset\n",
      "2021-08-27 14:14:46 Hail: INFO: Coerced sorted dataset\n",
      "2021-08-27 14:14:46 Hail: INFO: Coerced sorted dataset\n",
      "2021-08-27 14:14:46 Hail: INFO: Coerced sorted dataset\n",
      "2021-08-27 14:14:47 Hail: INFO: Coerced sorted dataset\n",
      "2021-08-27 14:14:47 Hail: INFO: Ordering unsorted dataset with network shuffle\n",
      "2021-08-27 14:14:47 Hail: INFO: Ordering unsorted dataset with network shuffle\n",
      "INFO (gnomad.sample_qc.ancestry 223): Found the following sample count after population assignment: Other: 13, EUR: 920, CSA: 772, AMR: 544, EAS: 809, AFR: 888, MID: 155\n"
     ]
    },
    {
     "name": "stdout",
     "output_type": "stream",
     "text": [
      "Random forest feature importances are as follows: [0.24304522 0.23079633 0.23091855 0.14168411 0.08584518 0.02439537\n",
      " 0.01381124 0.00496127 0.01364849 0.01089424]\n",
      "Estimated error rate for RF model is 0.005069708491761693\n"
     ]
    },
    {
     "name": "stderr",
     "output_type": "stream",
     "text": [
      "2021-08-27 14:14:49 Hail: INFO: Coerced sorted dataset\n",
      "2021-08-27 14:14:49 Hail: INFO: Coerced sorted dataset\n",
      "2021-08-27 14:14:50 Hail: INFO: wrote table with 159 rows in 8 partitions to /mnt/grid/janowitz/rdata/trigger/imputation_gwas/hail/ancestry_calls.ht\n",
      "    Total size: 15.03 KiB\n",
      "    * Rows: 15.02 KiB\n",
      "    * Globals: 11.00 B\n",
      "    * Smallest partition: 0 rows (21.00 B)\n",
      "    * Largest partition:  159 rows (14.88 KiB)\n"
     ]
    }
   ],
   "source": [
    "from gnomad.utils.liftover import *\n",
    "from gnomad.utils.annotations import *\n",
    "from gnomad.sample_qc.pipeline import *\n",
    "from gnomad.sample_qc.ancestry import *\n",
    "\n",
    "qc_mt = hl.read_matrix_table('/mnt/grid/janowitz/rdata/trigger/imputation_gwas/qc_cts.mt')\n",
    "\n",
    "#Import 1000G/HGDP reference\n",
    "this_ref = hl.read_matrix_table('/mnt/grid/janowitz/home/references/1k_hgdp/ref_gnomadfilters.mt')\n",
    "related_samples_to_remove_ref = hl.read_table(\"/mnt/grid/janowitz/home/references/1k_hgdp/related_remove_ref.ht\")\n",
    "\n",
    "#Merge cohorts\n",
    "tcga_in_ref = qc_mt.filter_rows(hl.is_defined(this_ref.rows()[qc_mt.row_key]))\n",
    "print('sites in ref and TCGA data, inds in TCGA: ' + str(tcga_in_ref.count()))\n",
    "\n",
    "ref_in_tcga= this_ref.filter_rows(hl.is_defined(qc_mt.rows()[this_ref.row_key]))\n",
    "print('sites in ref and TCGA data, inds in ref: ' + str(ref_in_tcga.count()))\n",
    "\n",
    "tcga_in_ref = tcga_in_ref.checkpoint('/mnt/grid/janowitz/rdata/trigger/imputation_gwas/hail/tcga_in_ref.mt', overwrite=True)\n",
    "ref_in_tcga = ref_in_tcga.checkpoint('/mnt/grid/janowitz/rdata/trigger/imputation_gwas/hail/ref_in_tcga.mt', overwrite=True)\n",
    "\n",
    "#Ancestry PCA\n",
    "#--> Reference, label with inferred populations, exclude relateds\n",
    "_, scores_pca_ref, loadings_pca_ref = run_pca_with_relateds(ref_in_tcga, related_samples_to_remove_ref, \n",
    "                                                               n_pcs=10, autosomes_only=True)\n",
    "\n",
    "#--> Project to PanIO\n",
    "\n",
    "scores_pca_tcga = pc_project(mt = tcga_in_ref, loadings_ht = loadings_pca_ref)\n",
    "\n",
    "#Train RF classifier\n",
    "merge = scores_pca_ref.union(scores_pca_tcga)\n",
    "\n",
    "merge = merge.annotate(\n",
    "    training_pop=this_ref.cols()[merge.key].labeled_subpop)\n",
    "\n",
    "recode = pd.read_excel('/mnt/grid/janowitz/home/references/1k_hgdp/recode.xlsx')\n",
    "recode_ht = hl.Table.from_pandas(recode, key='labeled_subpop')\n",
    "\n",
    "merge = merge.annotate(\n",
    "    training_pop=recode_ht[merge.training_pop].superpop)\n",
    "\n",
    "predictions_ref, classifer_rf_ref = assign_population_pcs(merge, pc_cols = merge.scores, known_col = 'training_pop', seed=501, min_prob = 0.70, missing_label='Other')\n",
    "\n",
    "tcga_predictions = predictions_ref.semi_join(scores_pca_tcga) #Subset PanIO samples\n",
    "\n",
    "tcga_predictions.write(\"/mnt/grid/janowitz/rdata/trigger/imputation_gwas/hail/ancestry_calls.ht\", overwrite=True)"
   ]
  },
  {
   "cell_type": "markdown",
   "metadata": {},
   "source": [
    "### Visualize ancestry"
   ]
  },
  {
   "cell_type": "code",
   "execution_count": 17,
   "metadata": {},
   "outputs": [
    {
     "name": "stderr",
     "output_type": "stream",
     "text": [
      "/grid/wsbs/home_norepl/skleeman/.local/lib/python3.7/site-packages/umap/__init__.py:9: UserWarning: Tensorflow not installed; ParametricUMAP will be unavailable\n",
      "  warn(\"Tensorflow not installed; ParametricUMAP will be unavailable\")\n"
     ]
    },
    {
     "data": {
      "image/png": "[encoded data removed]",
      "text/plain": [
       "<Figure size 720x720 with 1 Axes>"
      ]
     },
     "metadata": {
      "needs_background": "light"
     },
     "output_type": "display_data"
    }
   ],
   "source": [
    "import umap\n",
    "import pandas as pd\n",
    "import seaborn as sns\n",
    "import matplotlib.pyplot as plt\n",
    "\n",
    "ukb_predictions = hl.read_table(\"/mnt/grid/janowitz/rdata/trigger/imputation_gwas/hail/ancestry_calls.ht\")\n",
    "\n",
    "ukb_predictions_pd = ukb_predictions.to_pandas()\n",
    "\n",
    "data = pd.DataFrame(ukb_predictions_pd['pca_scores'].to_list())\n",
    "\n",
    "proj_umap_pca = umap.UMAP(n_components=2, n_neighbors=15, min_dist=0.5, random_state=42).fit_transform(data)\n",
    "\n",
    "\n",
    "umap = pd.DataFrame(proj_umap_pca)\n",
    "umap['pop'] = ukb_predictions_pd['pop']\n",
    "\n",
    "plt.figure(figsize=(10,10))\n",
    "sns.color_palette(\"bright\")\n",
    "sns.scatterplot(data=umap, x=0, y=1, hue=\"pop\", s=5, alpha = 0.7, marker ='o')\n",
    "plt.show()"
   ]
  },
  {
   "cell_type": "code",
   "execution_count": 20,
   "metadata": {},
   "outputs": [
    {
     "data": {
      "text/plain": [
       "EUR      150\n",
       "Other      4\n",
       "CSA        4\n",
       "AMR        1\n",
       "Name: pop, dtype: int64"
      ]
     },
     "execution_count": 20,
     "metadata": {},
     "output_type": "execute_result"
    }
   ],
   "source": [
    "ukb_predictions_pd = ukb_predictions.to_pandas()\n",
    "\n",
    "ukb_predictions_pd = ukb_predictions_pd[[\"s\", \"pop\"]]\n",
    "ukb_predictions_pd['pop'].value_counts()"
   ]
  },
  {
   "cell_type": "markdown",
   "metadata": {},
   "source": [
    "## Identify related subjects"
   ]
  },
  {
   "cell_type": "code",
   "execution_count": 18,
   "metadata": {},
   "outputs": [
    {
     "name": "stderr",
     "output_type": "stream",
     "text": [
      "2021-08-27 14:15:30 Hail: INFO: hwe_normalized_pca: running PCA using 146110 variants.\n",
      "2021-08-27 14:15:30 Hail: INFO: pca: running PCA with 10 components...\n",
      "2021-08-27 14:15:52 Hail: INFO: Wrote all 286 blocks of 146110 x 159 matrix with block size 512.\n",
      "2021-08-27 14:15:55 Hail: INFO: wrote matrix with 11 rows and 146110 columns as 286 blocks of size 512 to /mnt/grid/janowitz/home/skleeman/tmp2/pcrelate-write-read-pB2XMUgY4QgjLvpmgCEizw.bm\n",
      "2021-08-27 14:15:59 Hail: INFO: wrote matrix with 146110 rows and 159 columns as 286 blocks of size 512 to /mnt/grid/janowitz/home/skleeman/tmp2/pcrelate-write-read-VKjRXBtwbQbKoKbqskAivY.bm\n",
      "2021-08-27 14:16:02 Hail: INFO: wrote matrix with 146110 rows and 159 columns as 286 blocks of size 512 to /mnt/grid/janowitz/home/skleeman/tmp2/pcrelate-write-read-IXJynrvS2lyT9I3eaUh9y2.bm\n",
      "2021-08-27 14:16:05 Hail: INFO: wrote matrix with 159 rows and 159 columns as 1 block of size 512 to /mnt/grid/janowitz/home/skleeman/tmp2/pcrelate-write-read-MCqAPE88z7ecpJW73Y5pb6.bm\n",
      "2021-08-27 14:16:08 Hail: INFO: wrote matrix with 159 rows and 159 columns as 1 block of size 512 to /mnt/grid/janowitz/home/skleeman/tmp2/pcrelate-write-read-4Tm1tMdPw83eXyGakGTxld.bm\n",
      "2021-08-27 14:16:09 Hail: INFO: wrote matrix with 159 rows and 159 columns as 1 block of size 512 to /mnt/grid/janowitz/home/skleeman/tmp2/pcrelate-write-read-GDpoDsziF1Twrxv1CXiB89.bm\n",
      "2021-08-27 14:16:14 Hail: INFO: wrote matrix with 159 rows and 159 columns as 1 block of size 512 to /mnt/grid/janowitz/home/skleeman/tmp2/pcrelate-write-read-NVTsWistiZEvzZ2wnSLPuu.bm\n",
      "2021-08-27 14:16:17 Hail: INFO: wrote matrix with 159 rows and 159 columns as 1 block of size 512 to /mnt/grid/janowitz/home/skleeman/tmp2/pcrelate-write-read-8DKQV5AqDpkvsjjlRh2GtT.bm\n",
      "2021-08-27 14:16:17 Hail: INFO: wrote matrix with 159 rows and 159 columns as 1 block of size 512 to /mnt/grid/janowitz/home/skleeman/tmp2/pcrelate-write-read-vzO1QA3oW0UQveuHWaDW5G.bm\n",
      "2021-08-27 14:16:21 Hail: INFO: wrote matrix with 159 rows and 159 columns as 1 block of size 512 to /mnt/grid/janowitz/home/skleeman/tmp2/pcrelate-write-read-BPtnSYfiJyYKOEuEN5wQgL.bm\n",
      "2021-08-27 14:16:25 Hail: INFO: wrote matrix with 159 rows and 159 columns as 1 block of size 512 to /mnt/grid/janowitz/home/skleeman/tmp2/pcrelate-write-read-7lYE1V0SSjDJ98BlFOcEgO.bm\n",
      "2021-08-27 14:16:25 Hail: INFO: wrote matrix with 159 rows and 159 columns as 1 block of size 512 to /mnt/grid/janowitz/home/skleeman/tmp2/pcrelate-write-read-MpQ5l5RriGkN7jcqqdPJUF.bm\n",
      "2021-08-27 14:16:25 Hail: INFO: Ordering unsorted dataset with network shuffle\n",
      "2021-08-27 14:16:25 Hail: INFO: wrote table with 6 rows in 1 partition to /mnt/grid/janowitz/home/skleeman/tmp2/omoFOpruMNFu8bdCnWThBV\n",
      "    Total size: 117.00 B\n",
      "    * Rows: 106.00 B\n",
      "    * Globals: 11.00 B\n",
      "    * Smallest partition: 6 rows (106.00 B)\n",
      "    * Largest partition:  6 rows (106.00 B)\n",
      "2021-08-27 14:16:26 Hail: INFO: Ordering unsorted dataset with network shuffle\n",
      "2021-08-27 14:16:26 Hail: INFO: Ordering unsorted dataset with network shuffle\n"
     ]
    },
    {
     "name": "stdout",
     "output_type": "stream",
     "text": [
      "4\n"
     ]
    },
    {
     "name": "stderr",
     "output_type": "stream",
     "text": [
      "2021-08-27 14:16:26 Hail: INFO: wrote table with 4 rows in 1 partition to /mnt/grid/janowitz/rdata/trigger/imputation_gwas/hail/related_remove_cts.ht\n",
      "    Total size: 116.00 B\n",
      "    * Rows: 105.00 B\n",
      "    * Globals: 11.00 B\n",
      "    * Smallest partition: 4 rows (105.00 B)\n",
      "    * Largest partition:  4 rows (105.00 B)\n"
     ]
    }
   ],
   "source": [
    "relatedness_ht = hl.pc_relate(qc_mt.GT, 0.01, k=10, min_kinship=0.05, block_size=512)\n",
    "\n",
    "related_samples_to_remove = hl.maximal_independent_set(relatedness_ht.i, relatedness_ht.j, False)\n",
    "print(related_samples_to_remove.count())\n",
    "\n",
    "related_samples_to_remove.write(\"/mnt/grid/janowitz/rdata/trigger/imputation_gwas/hail/related_remove_cts.ht\",overwrite=True)"
   ]
  },
  {
   "cell_type": "markdown",
   "metadata": {},
   "source": [
    "### Check final PCA"
   ]
  },
  {
   "cell_type": "code",
   "execution_count": 42,
   "metadata": {},
   "outputs": [
    {
     "data": {
      "text/html": [
       "\n",
       "    <div class=\"bk-root\">\n",
       "        <a href=\"https://bokeh.org\" target=\"_blank\" class=\"bk-logo bk-logo-small bk-logo-notebook\"></a>\n",
       "        <span id=\"2715\">Loading BokehJS ...</span>\n",
       "    </div>"
      ]
     },
     "metadata": {},
     "output_type": "display_data"
    },
    {
     "data": {
      "application/javascript": [
       "\n",
       "(function(root) {\n",
       "  function now() {\n",
       "    return new Date();\n",
       "  }\n",
       "\n",
       "  var force = true;\n",
       "\n",
       "  if (typeof root._bokeh_onload_callbacks === \"undefined\" || force === true) {\n",
       "    root._bokeh_onload_callbacks = [];\n",
       "    root._bokeh_is_loading = undefined;\n",
       "  }\n",
       "\n",
       "  var JS_MIME_TYPE = 'application/javascript';\n",
       "  var HTML_MIME_TYPE = 'text/html';\n",
       "  var EXEC_MIME_TYPE = 'application/vnd.bokehjs_exec.v0+json';\n",
       "  var CLASS_NAME = 'output_bokeh rendered_html';\n",
       "\n",
       "  /**\n",
       "   * Render data to the DOM node\n",
       "   */\n",
       "  function render(props, node) {\n",
       "    var script = document.createElement(\"script\");\n",
       "    node.appendChild(script);\n",
       "  }\n",
       "\n",
       "  /**\n",
       "   * Handle when an output is cleared or removed\n",
       "   */\n",
       "  function handleClearOutput(event, handle) {\n",
       "    var cell = handle.cell;\n",
       "\n",
       "    var id = cell.output_area._bokeh_element_id;\n",
       "    var server_id = cell.output_area._bokeh_server_id;\n",
       "    // Clean up Bokeh references\n",
       "    if (id != null && id in Bokeh.index) {\n",
       "      Bokeh.index[id].model.document.clear();\n",
       "      delete Bokeh.index[id];\n",
       "    }\n",
       "\n",
       "    if (server_id !== undefined) {\n",
       "      // Clean up Bokeh references\n",
       "      var cmd = \"from bokeh.io.state import curstate; print(curstate().uuid_to_server['\" + server_id + \"'].get_sessions()[0].document.roots[0]._id)\";\n",
       "      cell.notebook.kernel.execute(cmd, {\n",
       "        iopub: {\n",
       "          output: function(msg) {\n",
       "            var id = msg.content.text.trim();\n",
       "            if (id in Bokeh.index) {\n",
       "              Bokeh.index[id].model.document.clear();\n",
       "              delete Bokeh.index[id];\n",
       "            }\n",
       "          }\n",
       "        }\n",
       "      });\n",
       "      // Destroy server and session\n",
       "      var cmd = \"import bokeh.io.notebook as ion; ion.destroy_server('\" + server_id + \"')\";\n",
       "      cell.notebook.kernel.execute(cmd);\n",
       "    }\n",
       "  }\n",
       "\n",
       "  /**\n",
       "   * Handle when a new output is added\n",
       "   */\n",
       "  function handleAddOutput(event, handle) {\n",
       "    var output_area = handle.output_area;\n",
       "    var output = handle.output;\n",
       "\n",
       "    // limit handleAddOutput to display_data with EXEC_MIME_TYPE content only\n",
       "    if ((output.output_type != \"display_data\") || (!output.data.hasOwnProperty(EXEC_MIME_TYPE))) {\n",
       "      return\n",
       "    }\n",
       "\n",
       "    var toinsert = output_area.element.find(\".\" + CLASS_NAME.split(' ')[0]);\n",
       "\n",
       "    if (output.metadata[EXEC_MIME_TYPE][\"id\"] !== undefined) {\n",
       "      toinsert[toinsert.length - 1].firstChild.textContent = output.data[JS_MIME_TYPE];\n",
       "      // store reference to embed id on output_area\n",
       "      output_area._bokeh_element_id = output.metadata[EXEC_MIME_TYPE][\"id\"];\n",
       "    }\n",
       "    if (output.metadata[EXEC_MIME_TYPE][\"server_id\"] !== undefined) {\n",
       "      var bk_div = document.createElement(\"div\");\n",
       "      bk_div.innerHTML = output.data[HTML_MIME_TYPE];\n",
       "      var script_attrs = bk_div.children[0].attributes;\n",
       "      for (var i = 0; i < script_attrs.length; i++) {\n",
       "        toinsert[toinsert.length - 1].firstChild.setAttribute(script_attrs[i].name, script_attrs[i].value);\n",
       "      }\n",
       "      // store reference to server id on output_area\n",
       "      output_area._bokeh_server_id = output.metadata[EXEC_MIME_TYPE][\"server_id\"];\n",
       "    }\n",
       "  }\n",
       "\n",
       "  function register_renderer(events, OutputArea) {\n",
       "\n",
       "    function append_mime(data, metadata, element) {\n",
       "      // create a DOM node to render to\n",
       "      var toinsert = this.create_output_subarea(\n",
       "        metadata,\n",
       "        CLASS_NAME,\n",
       "        EXEC_MIME_TYPE\n",
       "      );\n",
       "      this.keyboard_manager.register_events(toinsert);\n",
       "      // Render to node\n",
       "      var props = {data: data, metadata: metadata[EXEC_MIME_TYPE]};\n",
       "      render(props, toinsert[toinsert.length - 1]);\n",
       "      element.append(toinsert);\n",
       "      return toinsert\n",
       "    }\n",
       "\n",
       "    /* Handle when an output is cleared or removed */\n",
       "    events.on('clear_output.CodeCell', handleClearOutput);\n",
       "    events.on('delete.Cell', handleClearOutput);\n",
       "\n",
       "    /* Handle when a new output is added */\n",
       "    events.on('output_added.OutputArea', handleAddOutput);\n",
       "\n",
       "    /**\n",
       "     * Register the mime type and append_mime function with output_area\n",
       "     */\n",
       "    OutputArea.prototype.register_mime_type(EXEC_MIME_TYPE, append_mime, {\n",
       "      /* Is output safe? */\n",
       "      safe: true,\n",
       "      /* Index of renderer in `output_area.display_order` */\n",
       "      index: 0\n",
       "    });\n",
       "  }\n",
       "\n",
       "  // register the mime type if in Jupyter Notebook environment and previously unregistered\n",
       "  if (root.Jupyter !== undefined) {\n",
       "    var events = require('base/js/events');\n",
       "    var OutputArea = require('notebook/js/outputarea').OutputArea;\n",
       "\n",
       "    if (OutputArea.prototype.mime_types().indexOf(EXEC_MIME_TYPE) == -1) {\n",
       "      register_renderer(events, OutputArea);\n",
       "    }\n",
       "  }\n",
       "\n",
       "  \n",
       "  if (typeof (root._bokeh_timeout) === \"undefined\" || force === true) {\n",
       "    root._bokeh_timeout = Date.now() + 5000;\n",
       "    root._bokeh_failed_load = false;\n",
       "  }\n",
       "\n",
       "  var NB_LOAD_WARNING = {'data': {'text/html':\n",
       "     \"<div style='background-color: #fdd'>\\n\"+\n",
       "     \"<p>\\n\"+\n",
       "     \"BokehJS does not appear to have successfully loaded. If loading BokehJS from CDN, this \\n\"+\n",
       "     \"may be due to a slow or bad network connection. Possible fixes:\\n\"+\n",
       "     \"</p>\\n\"+\n",
       "     \"<ul>\\n\"+\n",
       "     \"<li>re-rerun `output_notebook()` to attempt to load from CDN again, or</li>\\n\"+\n",
       "     \"<li>use INLINE resources instead, as so:</li>\\n\"+\n",
       "     \"</ul>\\n\"+\n",
       "     \"<code>\\n\"+\n",
       "     \"from bokeh.resources import INLINE\\n\"+\n",
       "     \"output_notebook(resources=INLINE)\\n\"+\n",
       "     \"</code>\\n\"+\n",
       "     \"</div>\"}};\n",
       "\n",
       "  function display_loaded() {\n",
       "    var el = document.getElementById(\"2715\");\n",
       "    if (el != null) {\n",
       "      el.textContent = \"BokehJS is loading...\";\n",
       "    }\n",
       "    if (root.Bokeh !== undefined) {\n",
       "      if (el != null) {\n",
       "        el.textContent = \"BokehJS \" + root.Bokeh.version + \" successfully loaded.\";\n",
       "      }\n",
       "    } else if (Date.now() < root._bokeh_timeout) {\n",
       "      setTimeout(display_loaded, 100)\n",
       "    }\n",
       "  }\n",
       "\n",
       "\n",
       "  function run_callbacks() {\n",
       "    try {\n",
       "      root._bokeh_onload_callbacks.forEach(function(callback) {\n",
       "        if (callback != null)\n",
       "          callback();\n",
       "      });\n",
       "    } finally {\n",
       "      delete root._bokeh_onload_callbacks\n",
       "    }\n",
       "    console.debug(\"Bokeh: all callbacks have finished\");\n",
       "  }\n",
       "\n",
       "  function load_libs(css_urls, js_urls, callback) {\n",
       "    if (css_urls == null) css_urls = [];\n",
       "    if (js_urls == null) js_urls = [];\n",
       "\n",
       "    root._bokeh_onload_callbacks.push(callback);\n",
       "    if (root._bokeh_is_loading > 0) {\n",
       "      console.debug(\"Bokeh: BokehJS is being loaded, scheduling callback at\", now());\n",
       "      return null;\n",
       "    }\n",
       "    if (js_urls == null || js_urls.length === 0) {\n",
       "      run_callbacks();\n",
       "      return null;\n",
       "    }\n",
       "    console.debug(\"Bokeh: BokehJS not loaded, scheduling load and callback at\", now());\n",
       "    root._bokeh_is_loading = css_urls.length + js_urls.length;\n",
       "\n",
       "    function on_load() {\n",
       "      root._bokeh_is_loading--;\n",
       "      if (root._bokeh_is_loading === 0) {\n",
       "        console.debug(\"Bokeh: all BokehJS libraries/stylesheets loaded\");\n",
       "        run_callbacks()\n",
       "      }\n",
       "    }\n",
       "\n",
       "    function on_error() {\n",
       "      console.error(\"failed to load \" + url);\n",
       "    }\n",
       "\n",
       "    for (var i = 0; i < css_urls.length; i++) {\n",
       "      var url = css_urls[i];\n",
       "      const element = document.createElement(\"link\");\n",
       "      element.onload = on_load;\n",
       "      element.onerror = on_error;\n",
       "      element.rel = \"stylesheet\";\n",
       "      element.type = \"text/css\";\n",
       "      element.href = url;\n",
       "      console.debug(\"Bokeh: injecting link tag for BokehJS stylesheet: \", url);\n",
       "      document.body.appendChild(element);\n",
       "    }\n",
       "\n",
       "    for (var i = 0; i < js_urls.length; i++) {\n",
       "      var url = js_urls[i];\n",
       "      var element = document.createElement('script');\n",
       "      element.onload = on_load;\n",
       "      element.onerror = on_error;\n",
       "      element.async = false;\n",
       "      element.src = url;\n",
       "      console.debug(\"Bokeh: injecting script tag for BokehJS library: \", url);\n",
       "      document.head.appendChild(element);\n",
       "    }\n",
       "  };var element = document.getElementById(\"2715\");\n",
       "  if (element == null) {\n",
       "    console.error(\"Bokeh: ERROR: autoload.js configured with elementid '2715' but no matching script tag was found. \")\n",
       "    return false;\n",
       "  }\n",
       "\n",
       "  function inject_raw_css(css) {\n",
       "    const element = document.createElement(\"style\");\n",
       "    element.appendChild(document.createTextNode(css));\n",
       "    document.body.appendChild(element);\n",
       "  }\n",
       "\n",
       "  \n",
       "  var js_urls = [\"https://cdn.pydata.org/bokeh/release/bokeh-1.4.0.min.js\", \"https://cdn.pydata.org/bokeh/release/bokeh-widgets-1.4.0.min.js\", \"https://cdn.pydata.org/bokeh/release/bokeh-tables-1.4.0.min.js\", \"https://cdn.pydata.org/bokeh/release/bokeh-gl-1.4.0.min.js\"];\n",
       "  var css_urls = [];\n",
       "  \n",
       "\n",
       "  var inline_js = [\n",
       "    function(Bokeh) {\n",
       "      Bokeh.set_log_level(\"info\");\n",
       "    },\n",
       "    function(Bokeh) {\n",
       "    \n",
       "    \n",
       "    }\n",
       "  ];\n",
       "\n",
       "  function run_inline_js() {\n",
       "    \n",
       "    if (root.Bokeh !== undefined || force === true) {\n",
       "      \n",
       "    for (var i = 0; i < inline_js.length; i++) {\n",
       "      inline_js[i].call(root, root.Bokeh);\n",
       "    }\n",
       "    if (force === true) {\n",
       "        display_loaded();\n",
       "      }} else if (Date.now() < root._bokeh_timeout) {\n",
       "      setTimeout(run_inline_js, 100);\n",
       "    } else if (!root._bokeh_failed_load) {\n",
       "      console.log(\"Bokeh: BokehJS failed to load within specified timeout.\");\n",
       "      root._bokeh_failed_load = true;\n",
       "    } else if (force !== true) {\n",
       "      var cell = $(document.getElementById(\"2715\")).parents('.cell').data().cell;\n",
       "      cell.output_area.append_execute_result(NB_LOAD_WARNING)\n",
       "    }\n",
       "\n",
       "  }\n",
       "\n",
       "  if (root._bokeh_is_loading === 0) {\n",
       "    console.debug(\"Bokeh: BokehJS loaded, going straight to plotting\");\n",
       "    run_inline_js();\n",
       "  } else {\n",
       "    load_libs(css_urls, js_urls, function() {\n",
       "      console.debug(\"Bokeh: BokehJS plotting callback run at\", now());\n",
       "      run_inline_js();\n",
       "    });\n",
       "  }\n",
       "}(window));"
      ],
      "application/vnd.bokehjs_load.v0+json": "\n(function(root) {\n  function now() {\n    return new Date();\n  }\n\n  var force = true;\n\n  if (typeof root._bokeh_onload_callbacks === \"undefined\" || force === true) {\n    root._bokeh_onload_callbacks = [];\n    root._bokeh_is_loading = undefined;\n  }\n\n  \n\n  \n  if (typeof (root._bokeh_timeout) === \"undefined\" || force === true) {\n    root._bokeh_timeout = Date.now() + 5000;\n    root._bokeh_failed_load = false;\n  }\n\n  var NB_LOAD_WARNING = {'data': {'text/html':\n     \"<div style='background-color: #fdd'>\\n\"+\n     \"<p>\\n\"+\n     \"BokehJS does not appear to have successfully loaded. If loading BokehJS from CDN, this \\n\"+\n     \"may be due to a slow or bad network connection. Possible fixes:\\n\"+\n     \"</p>\\n\"+\n     \"<ul>\\n\"+\n     \"<li>re-rerun `output_notebook()` to attempt to load from CDN again, or</li>\\n\"+\n     \"<li>use INLINE resources instead, as so:</li>\\n\"+\n     \"</ul>\\n\"+\n     \"<code>\\n\"+\n     \"from bokeh.resources import INLINE\\n\"+\n     \"output_notebook(resources=INLINE)\\n\"+\n     \"</code>\\n\"+\n     \"</div>\"}};\n\n  function display_loaded() {\n    var el = document.getElementById(\"2715\");\n    if (el != null) {\n      el.textContent = \"BokehJS is loading...\";\n    }\n    if (root.Bokeh !== undefined) {\n      if (el != null) {\n        el.textContent = \"BokehJS \" + root.Bokeh.version + \" successfully loaded.\";\n      }\n    } else if (Date.now() < root._bokeh_timeout) {\n      setTimeout(display_loaded, 100)\n    }\n  }\n\n\n  function run_callbacks() {\n    try {\n      root._bokeh_onload_callbacks.forEach(function(callback) {\n        if (callback != null)\n          callback();\n      });\n    } finally {\n      delete root._bokeh_onload_callbacks\n    }\n    console.debug(\"Bokeh: all callbacks have finished\");\n  }\n\n  function load_libs(css_urls, js_urls, callback) {\n    if (css_urls == null) css_urls = [];\n    if (js_urls == null) js_urls = [];\n\n    root._bokeh_onload_callbacks.push(callback);\n    if (root._bokeh_is_loading > 0) {\n      console.debug(\"Bokeh: BokehJS is being loaded, scheduling callback at\", now());\n      return null;\n    }\n    if (js_urls == null || js_urls.length === 0) {\n      run_callbacks();\n      return null;\n    }\n    console.debug(\"Bokeh: BokehJS not loaded, scheduling load and callback at\", now());\n    root._bokeh_is_loading = css_urls.length + js_urls.length;\n\n    function on_load() {\n      root._bokeh_is_loading--;\n      if (root._bokeh_is_loading === 0) {\n        console.debug(\"Bokeh: all BokehJS libraries/stylesheets loaded\");\n        run_callbacks()\n      }\n    }\n\n    function on_error() {\n      console.error(\"failed to load \" + url);\n    }\n\n    for (var i = 0; i < css_urls.length; i++) {\n      var url = css_urls[i];\n      const element = document.createElement(\"link\");\n      element.onload = on_load;\n      element.onerror = on_error;\n      element.rel = \"stylesheet\";\n      element.type = \"text/css\";\n      element.href = url;\n      console.debug(\"Bokeh: injecting link tag for BokehJS stylesheet: \", url);\n      document.body.appendChild(element);\n    }\n\n    for (var i = 0; i < js_urls.length; i++) {\n      var url = js_urls[i];\n      var element = document.createElement('script');\n      element.onload = on_load;\n      element.onerror = on_error;\n      element.async = false;\n      element.src = url;\n      console.debug(\"Bokeh: injecting script tag for BokehJS library: \", url);\n      document.head.appendChild(element);\n    }\n  };var element = document.getElementById(\"2715\");\n  if (element == null) {\n    console.error(\"Bokeh: ERROR: autoload.js configured with elementid '2715' but no matching script tag was found. \")\n    return false;\n  }\n\n  function inject_raw_css(css) {\n    const element = document.createElement(\"style\");\n    element.appendChild(document.createTextNode(css));\n    document.body.appendChild(element);\n  }\n\n  \n  var js_urls = [\"https://cdn.pydata.org/bokeh/release/bokeh-1.4.0.min.js\", \"https://cdn.pydata.org/bokeh/release/bokeh-widgets-1.4.0.min.js\", \"https://cdn.pydata.org/bokeh/release/bokeh-tables-1.4.0.min.js\", \"https://cdn.pydata.org/bokeh/release/bokeh-gl-1.4.0.min.js\"];\n  var css_urls = [];\n  \n\n  var inline_js = [\n    function(Bokeh) {\n      Bokeh.set_log_level(\"info\");\n    },\n    function(Bokeh) {\n    \n    \n    }\n  ];\n\n  function run_inline_js() {\n    \n    if (root.Bokeh !== undefined || force === true) {\n      \n    for (var i = 0; i < inline_js.length; i++) {\n      inline_js[i].call(root, root.Bokeh);\n    }\n    if (force === true) {\n        display_loaded();\n      }} else if (Date.now() < root._bokeh_timeout) {\n      setTimeout(run_inline_js, 100);\n    } else if (!root._bokeh_failed_load) {\n      console.log(\"Bokeh: BokehJS failed to load within specified timeout.\");\n      root._bokeh_failed_load = true;\n    } else if (force !== true) {\n      var cell = $(document.getElementById(\"2715\")).parents('.cell').data().cell;\n      cell.output_area.append_execute_result(NB_LOAD_WARNING)\n    }\n\n  }\n\n  if (root._bokeh_is_loading === 0) {\n    console.debug(\"Bokeh: BokehJS loaded, going straight to plotting\");\n    run_inline_js();\n  } else {\n    load_libs(css_urls, js_urls, function() {\n      console.debug(\"Bokeh: BokehJS plotting callback run at\", now());\n      run_inline_js();\n    });\n  }\n}(window));"
     },
     "metadata": {},
     "output_type": "display_data"
    },
    {
     "name": "stderr",
     "output_type": "stream",
     "text": [
      "2021-08-27 17:28:11 Hail: INFO: Coerced sorted dataset\n"
     ]
    },
    {
     "name": "stdout",
     "output_type": "stream",
     "text": [
      "(146110, 145)\n"
     ]
    },
    {
     "name": "stderr",
     "output_type": "stream",
     "text": [
      "2021-08-27 17:28:12 Hail: INFO: Coerced sorted dataset\n",
      "2021-08-27 17:28:12 Hail: INFO: hwe_normalized_pca: running PCA using 145953 variants.\n",
      "2021-08-27 17:28:13 Hail: INFO: Coerced sorted dataset\n",
      "2021-08-27 17:28:13 Hail: INFO: pca: running PCA with 4 components...\n",
      "2021-08-27 17:28:35 Hail: INFO: Coerced sorted dataset\n"
     ]
    },
    {
     "data": {
      "text/html": [
       "\n",
       "\n",
       "\n",
       "\n",
       "\n",
       "\n",
       "  <div class=\"bk-root\" id=\"c119fe58-2bb9-4bad-adcd-790660a01cf8\" data-root-id=\"2716\"></div>\n"
      ]
     },
     "metadata": {},
     "output_type": "display_data"
    },
    {
     "data": {
      "application/javascript": [
       "(function(root) {\n",
       "  function embed_document(root) {\n",
       "    \n",
       "  var docs_json = {\"8d8087f8-dec6-47a1-9083-84421c8626cc\":{\"roots\":{\"references\":[{\"attributes\":{\"below\":[{\"id\":\"2727\",\"type\":\"LinearAxis\"}],\"center\":[{\"id\":\"2731\",\"type\":\"Grid\"},{\"id\":\"2736\",\"type\":\"Grid\"}],\"left\":[{\"id\":\"2732\",\"type\":\"LinearAxis\"}],\"plot_height\":800,\"plot_width\":800,\"renderers\":[{\"id\":\"2756\",\"type\":\"GlyphRenderer\"}],\"title\":{\"id\":\"2717\",\"type\":\"Title\"},\"toolbar\":{\"id\":\"2743\",\"type\":\"Toolbar\"},\"x_range\":{\"id\":\"2719\",\"type\":\"DataRange1d\"},\"x_scale\":{\"id\":\"2723\",\"type\":\"LinearScale\"},\"y_range\":{\"id\":\"2721\",\"type\":\"DataRange1d\"},\"y_scale\":{\"id\":\"2725\",\"type\":\"LinearScale\"}},\"id\":\"2716\",\"subtype\":\"Figure\",\"type\":\"Plot\"},{\"attributes\":{\"callback\":null,\"data\":{\"index\":[0,1,2,3,4,5,6,7,8,9,10,11,12,13,14,15,16,17,18,19,20,21,22,23,24,25,26,27,28,29,30,31,32,33,34,35,36,37,38,39,40,41,42,43,44,45,46,47,48,49,50,51,52,53,54,55,56,57,58,59,60,61,62,63,64,65,66,67,68,69,70,71,72,73,74,75,76,77,78,79,80,81,82,83,84,85,86,87,88,89,90,91,92,93,94,95,96,97,98,99,100,101,102,103,104,105,106,107,108,109,110,111,112,113,114,115,116,117,118,119,120,121,122,123,124,125,126,127,128,129,130,131,132,133,134,135,136,137,138,139,140,141,142,143,144],\"x\":{\"__ndarray__\":\"JwfnBQ05xL8ksPYguSDBvzQ2Sk3++MC/MAm1kUEevr8ApoeuDR68vyVoS+UzuLu/c1wul5zfub/8t44SXRO5v7IBbQtl8ri/m/xfv/GOt7/hVHRVhJq3v2FkNphLora/8WCi6xJytr/TOdEfcva1v76VpWI9Gra/vUwj5qaRtL9EKDIcAQOzv4/t6rYscbK/dOZ1i9lhsb+LgCIR4Hyxv2/lcWvNELG/j7XqZRKNsL9Ts3//Uj6wv31w63Imm66/g44JIGsirr+Q/e3ewAmuv7MbwX7Rxqy/8TGJjSt8rL/g5MCymberv0yVOuprpau/2Y9h1Q4wq7/wH9JdyCmrvxKXFeU0yKq/m6/BYoD2qL+Rj0v69i6pv/dKUatvH6m/AKezWySUqL+lSLthMBmov9vsUAurj6i/rs1M62Pmp78mkTd/jMymv1MPk2TIaqW/4GfZyHd4pb9jK7UbJe2kv2nk51jqoqS/Ku0oWRbNo7/sQAzYXF6iv/MtG3fQW6K/8FIkm97Hob9Op+dwhhWhv0dWxqY4PaG/PvMMihjJnb9FKlK5dJ6cv5jj/qd91Zy/E+Sj2bE3m79iGpWtgiibv45K8hUaGZu/c6bz1UBGmr9x96IjfXKav2Zq4T5mIJm/1ThEgfd8mb/AyOOLdx6Wv2ZBWxVsKZa/uUctImS3lL+kj1GUf4SVv7WtPFLN3pS/PDBM9NFKlL/tGFavRuCTvxK7Y7A3lJO/RCQCeehYk7+BDuu/MyqTvzpJIZ0cfpG/B4sCNsevkL9LfoWmVmGOvxHLBXvmRJC/2seX/aIDjL+DLOlRODCMv/aDwNrFooa/2Bp7l7iZiL/B2ZZRfaKFv4bDukwDmXu/B770G77/db8fqin4uNdjv6hylaJEJ2a/BMyyyU0yZ7/fSFsxsCVUvzjtaqDtBlu/asYDu7UuAz8ooIzPa9BKP2jKtH2q918/pmbEkNCkcj9p3qpDl4J5P2BYlPcp3n0/IXsO8aokfT82vBQM0mSFPwXIi1fRn4g/WK6w67pShz9Gop5nqFeGP/cSJ2cgW4c/ZarKyVt0jT/inS254gCRP4noaBvokJA/V44QLiGCkT+UjXxOnqKTPyv+lVIY95Q/3CcAC4/KlT+Wmo5U3dmWP5zCyYNDM5k/peI7y0KRmj9xpOyUCq6aP4pPXg5cKJs/ZmCjl716mz/R8g9APWqcP3jaflHrSpw/YwR/FDH9nz9lyyALmBKgPyR3rWCCu6E/upTDFNhfoj9u+qwmm0OkP9xJxLynZ6Y/X9utEKK7pj8NLs8vj2inP7UNWjFyP6g/OpGXolR8qj9s29glOyerP3DwRwSnVqs/qEsac1wJrz96cB4Ezh2wP8CexPK5dbA/54JzI0Xnsz9bN65mbc6zPzqnT2p+0rU/C5u8n4dktj9m2KuFL+u5P1TDrfC8nLs/w4eUh8NFvj9QIz2tTmLBPwaJl00bE8Q/4dvUHnhOxD+nEwNlfd3JP9peMHerz84/4e/3IgIa0T8GXgI8upvUP2x9RQYvrtU/LieRzL7L3j8=\",\"dtype\":\"float64\",\"shape\":[145]},\"y\":{\"__ndarray__\":\"elPItahJzj8jatPQQ3G1v0jF1GfgCrk/dIIucvE7tb95C5o7TBKiP5NX+tcOyrW/qcwJjQOmoT+ztjg2D5a2P5lBKeyzpLq/uPajuhlEsL+H6BYEvqe/P+cu5T13wIa/pUF5OeNZtT8kWmu9ZI68v/o6cVvr8bg/g7ksgdKbXj+E7H6lioCQP9romGSr64O/mmib32m2wb8E8zod/4HAv2M0oxFelnY/Bpzrd3y2oL9xK5AtQC6VPw+6KwDlIqo/02gTYcpan7+iQUB8KBGzP3RP+X76cqs/fhgXnateyr/56ASt4g6QPy1p4KIMdKI/9oC+Tvr9wL8isrir9SybP9TUICvcRMc/XzZQBmiNwr8mjOt3WiyDvy58xxjLlZw/KxrFyMTxo7+JJc2+cWOPP13XXviBILQ/6eemDFpipD/sNZQSaYWDP0eYUwQqB5G/hFe9t2zUtz+0IqpZHW+iv+ldSXERJL+/aDE74kMNjT/ixkAxNd+ZP9HgqV7NPrI/1ST9Sv3air/cd82INd2xv78r7im0BLo/T7ZL3qS6sr+0R7cKRXmpP44h+Pj/xcQ/xpFynxx7hb8bwedvtv5uP1j4sYKVSY8/WLSPkZESqr/H0s/hNHimv/rxctDOVoE/sJmB1eKwyj/lOZFflj21vxsZihP9G6w/3ae8q27Qe7+CN/OYx0qfP/MltYM6trE/lCUrEsBXtr992rouUEawv/H7TrRzxK2/isttjUKhnL/A6a3xfyGNv/RZBw5MXJ0/kbiJEYYAqD+aiP/nMoG5vxJyIuCZTJU/LpRnLI2ctb/RZ+bk5b6rP48Tx/IPZ6S/3vTkppl2sj8T3fdYZ2Jov+XDyfOE3Kg/2JOebNTzrD8txgkhZNK3v3ojfm1sbZO/IFSEEXHUhb+/nq18Z7KSvxj6JiBBN5g/8jnUCEXXsT+rgf6oMM6gvzvCIzJY6rY/woowPqDGrD80GG9VIp2dP516mFbqv6u/7NAZ+G1xpb+m6cMqnX+ZP8m0LgNgFq+/BvKbxG5Bnb9+iXXIrgB4P70ZM9WiOHs/XFTDWbaPob/Dd7rqji2HP/bFiek6N58/VaburQudwz8zsAFPiGmMv9adqCTwApY/fHoNclbqrr80AfOojPq4vz8bYN0JPGE/VHkvfxZTab8u4lT/ioOpPzAj43B6LZA/zugGTAqQsz/qv01hSeGkv5kuVb1Ky3s/01cnApUolT8vey+Hgj21P4KPkktTA7o/f1TvrrEpwD+0v6myBT+wPxKSJlGlXKS/JtbuPq7Ngr/9DB1st9qmP49dxXA54LG/xJXP5r+7lT+Hr4YwzUyzvzArDLYP2EM/7M+aYA1PnL8IVpU/D5O7vy7aYxEg+4i/DaApY3rsnb+W11MHQV2JP0GuMR1Ps6c/TmroTeWcwL//JjJ0uJW6P/N8sOWygcO/BryLfO5Csb87+nuftoDFv3HFbzzXXaY/7HxiHhGCf79nW2iYg+18vyTE/41eKcu//pPla5Vi0b+EYTlMJf2ov7sZClkNO4o/xsbELD4F2z8=\",\"dtype\":\"float64\",\"shape\":[145]}},\"selected\":{\"id\":\"2860\",\"type\":\"Selection\"},\"selection_policy\":{\"id\":\"2859\",\"type\":\"UnionRenderers\"}},\"id\":\"2752\",\"type\":\"ColumnDataSource\"},{\"attributes\":{\"active_drag\":\"auto\",\"active_inspect\":\"auto\",\"active_multi\":null,\"active_scroll\":\"auto\",\"active_tap\":\"auto\",\"tools\":[{\"id\":\"2737\",\"type\":\"PanTool\"},{\"id\":\"2738\",\"type\":\"WheelZoomTool\"},{\"id\":\"2739\",\"type\":\"BoxZoomTool\"},{\"id\":\"2740\",\"type\":\"SaveTool\"},{\"id\":\"2741\",\"type\":\"ResetTool\"},{\"id\":\"2742\",\"type\":\"HelpTool\"},{\"id\":\"2751\",\"type\":\"HoverTool\"}]},\"id\":\"2743\",\"type\":\"Toolbar\"},{\"attributes\":{},\"id\":\"2733\",\"type\":\"BasicTicker\"},{\"attributes\":{\"axis_label\":\"PC1\",\"formatter\":{\"id\":\"2857\",\"type\":\"BasicTickFormatter\"},\"ticker\":{\"id\":\"2728\",\"type\":\"BasicTicker\"}},\"id\":\"2727\",\"type\":\"LinearAxis\"},{\"attributes\":{},\"id\":\"2859\",\"type\":\"UnionRenderers\"},{\"attributes\":{\"ticker\":{\"id\":\"2728\",\"type\":\"BasicTicker\"}},\"id\":\"2731\",\"type\":\"Grid\"},{\"attributes\":{\"text\":\"PCA\"},\"id\":\"2717\",\"type\":\"Title\"},{\"attributes\":{},\"id\":\"2855\",\"type\":\"BasicTickFormatter\"},{\"attributes\":{\"overlay\":{\"id\":\"2861\",\"type\":\"BoxAnnotation\"}},\"id\":\"2739\",\"type\":\"BoxZoomTool\"},{\"attributes\":{},\"id\":\"2723\",\"type\":\"LinearScale\"},{\"attributes\":{\"source\":{\"id\":\"2752\",\"type\":\"ColumnDataSource\"}},\"id\":\"2757\",\"type\":\"CDSView\"},{\"attributes\":{},\"id\":\"2738\",\"type\":\"WheelZoomTool\"},{\"attributes\":{},\"id\":\"2728\",\"type\":\"BasicTicker\"},{\"attributes\":{\"fill_alpha\":{\"value\":0.1},\"fill_color\":{\"value\":\"#1f77b4\"},\"line_alpha\":{\"value\":0.1},\"line_color\":{\"value\":\"#1f77b4\"},\"x\":{\"field\":\"x\"},\"y\":{\"field\":\"y\"}},\"id\":\"2755\",\"type\":\"Circle\"},{\"attributes\":{\"axis_label\":\"PC2\",\"formatter\":{\"id\":\"2855\",\"type\":\"BasicTickFormatter\"},\"ticker\":{\"id\":\"2733\",\"type\":\"BasicTicker\"}},\"id\":\"2732\",\"type\":\"LinearAxis\"},{\"attributes\":{\"dimension\":1,\"ticker\":{\"id\":\"2733\",\"type\":\"BasicTicker\"}},\"id\":\"2736\",\"type\":\"Grid\"},{\"attributes\":{},\"id\":\"2737\",\"type\":\"PanTool\"},{\"attributes\":{\"callback\":null},\"id\":\"2721\",\"type\":\"DataRange1d\"},{\"attributes\":{},\"id\":\"2740\",\"type\":\"SaveTool\"},{\"attributes\":{},\"id\":\"2857\",\"type\":\"BasicTickFormatter\"},{\"attributes\":{\"callback\":null,\"tooltips\":[[\"x\",\"@x\"],[\"y\",\"@y\"]]},\"id\":\"2751\",\"type\":\"HoverTool\"},{\"attributes\":{\"callback\":null},\"id\":\"2719\",\"type\":\"DataRange1d\"},{\"attributes\":{\"bottom_units\":\"screen\",\"fill_alpha\":{\"value\":0.5},\"fill_color\":{\"value\":\"lightgrey\"},\"left_units\":\"screen\",\"level\":\"overlay\",\"line_alpha\":{\"value\":1.0},\"line_color\":{\"value\":\"black\"},\"line_dash\":[4,4],\"line_width\":{\"value\":2},\"render_mode\":\"css\",\"right_units\":\"screen\",\"top_units\":\"screen\"},\"id\":\"2861\",\"type\":\"BoxAnnotation\"},{\"attributes\":{\"fill_color\":{\"value\":\"#1f77b4\"},\"line_color\":{\"value\":\"#1f77b4\"},\"x\":{\"field\":\"x\"},\"y\":{\"field\":\"y\"}},\"id\":\"2754\",\"type\":\"Circle\"},{\"attributes\":{},\"id\":\"2741\",\"type\":\"ResetTool\"},{\"attributes\":{\"data_source\":{\"id\":\"2752\",\"type\":\"ColumnDataSource\"},\"glyph\":{\"id\":\"2754\",\"type\":\"Circle\"},\"hover_glyph\":null,\"muted_glyph\":null,\"nonselection_glyph\":{\"id\":\"2755\",\"type\":\"Circle\"},\"selection_glyph\":null,\"view\":{\"id\":\"2757\",\"type\":\"CDSView\"}},\"id\":\"2756\",\"type\":\"GlyphRenderer\"},{\"attributes\":{},\"id\":\"2860\",\"type\":\"Selection\"},{\"attributes\":{},\"id\":\"2742\",\"type\":\"HelpTool\"},{\"attributes\":{},\"id\":\"2725\",\"type\":\"LinearScale\"}],\"root_ids\":[\"2716\"]},\"title\":\"Bokeh Application\",\"version\":\"1.4.0\"}};\n",
       "  var render_items = [{\"docid\":\"8d8087f8-dec6-47a1-9083-84421c8626cc\",\"roots\":{\"2716\":\"c119fe58-2bb9-4bad-adcd-790660a01cf8\"}}];\n",
       "  root.Bokeh.embed.embed_items_notebook(docs_json, render_items);\n",
       "\n",
       "  }\n",
       "  if (root.Bokeh !== undefined) {\n",
       "    embed_document(root);\n",
       "  } else {\n",
       "    var attempts = 0;\n",
       "    var timer = setInterval(function(root) {\n",
       "      if (root.Bokeh !== undefined) {\n",
       "        clearInterval(timer);\n",
       "        embed_document(root);\n",
       "      } else {\n",
       "        attempts++;\n",
       "        if (attempts > 100) {\n",
       "          clearInterval(timer);\n",
       "          console.log(\"Bokeh: ERROR: Unable to run BokehJS code because BokehJS library is missing\");\n",
       "        }\n",
       "      }\n",
       "    }, 10, root)\n",
       "  }\n",
       "})(window);"
      ],
      "application/vnd.bokehjs_exec.v0+json": ""
     },
     "metadata": {
      "application/vnd.bokehjs_exec.v0+json": {
       "id": "2716"
      }
     },
     "output_type": "display_data"
    }
   ],
   "source": [
    "import pandas as pd\n",
    "from hail.plot import show\n",
    "from pprint import pprint\n",
    "hl.plot.output_notebook()\n",
    "\n",
    "qc_mt = hl.read_matrix_table('/mnt/grid/janowitz/rdata/trigger/imputation_gwas/qc_cts.mt')\n",
    "\n",
    "#Remove related samples\n",
    "related_samples_to_remove = hl.read_table(\"/mnt/grid/janowitz/rdata/trigger/imputation_gwas/hail/related_remove_cts.ht\")\n",
    "qc_mt = qc_mt.filter_cols(~hl.is_defined(related_samples_to_remove[qc_mt.col_key]))\n",
    "\n",
    "#Add ancestry data\n",
    "panIO_predictions = hl.read_table(\"/mnt/grid/janowitz/rdata/trigger/imputation_gwas/hail/ancestry_calls2.ht\")\n",
    "qc_mt = qc_mt.annotate_cols(pop = panIO_predictions[qc_mt.s].pop)\n",
    "\n",
    "mt_filter = qc_mt.filter_cols(qc_mt.pop=='EUR')\n",
    "print(mt_filter.count(), flush=True)\n",
    "\n",
    "eigenvalues, pcs, _ = hl.hwe_normalized_pca(mt_filter.GT, k=4)\n",
    "                          \n",
    "mt_filter = mt_filter.annotate_cols(scores = pcs[mt_filter.s].scores)\n",
    "                          \n",
    "p = hl.plot.scatter(mt_filter.scores[0],\n",
    "                    mt_filter.scores[1],\n",
    "                    title='PCA', xlabel='PC1', ylabel='PC2')\n",
    "show(p)"
   ]
  },
  {
   "cell_type": "code",
   "execution_count": 40,
   "metadata": {},
   "outputs": [
    {
     "name": "stderr",
     "output_type": "stream",
     "text": [
      "2021-08-27 17:26:58 Hail: INFO: Coerced sorted dataset\n",
      "2021-08-27 17:26:59 Hail: INFO: hwe_normalized_pca: running PCA using 145959 variants.\n",
      "2021-08-27 17:26:59 Hail: INFO: Coerced sorted dataset\n",
      "2021-08-27 17:27:00 Hail: INFO: pca: running PCA with 2 components...\n"
     ]
    },
    {
     "data": {
      "text/html": [
       "\n",
       "\n",
       "\n",
       "\n",
       "\n",
       "\n",
       "  <div class=\"bk-root\" id=\"529b4936-f42a-4d40-920d-38dd4de7ee0c\" data-root-id=\"2528\"></div>\n"
      ]
     },
     "metadata": {},
     "output_type": "display_data"
    },
    {
     "data": {
      "application/javascript": [
       "(function(root) {\n",
       "  function embed_document(root) {\n",
       "    \n",
       "  var docs_json = {\"c523c5b7-b648-4ec1-829c-9e63c6cb0c52\":{\"roots\":{\"references\":[{\"attributes\":{\"below\":[{\"id\":\"2539\",\"type\":\"LinearAxis\"}],\"center\":[{\"id\":\"2543\",\"type\":\"Grid\"},{\"id\":\"2548\",\"type\":\"Grid\"}],\"left\":[{\"id\":\"2544\",\"type\":\"LinearAxis\"}],\"plot_height\":800,\"plot_width\":800,\"renderers\":[{\"id\":\"2568\",\"type\":\"GlyphRenderer\"}],\"title\":{\"id\":\"2529\",\"type\":\"Title\"},\"toolbar\":{\"id\":\"2555\",\"type\":\"Toolbar\"},\"x_range\":{\"id\":\"2531\",\"type\":\"DataRange1d\"},\"x_scale\":{\"id\":\"2535\",\"type\":\"LinearScale\"},\"y_range\":{\"id\":\"2533\",\"type\":\"DataRange1d\"},\"y_scale\":{\"id\":\"2537\",\"type\":\"LinearScale\"}},\"id\":\"2528\",\"subtype\":\"Figure\",\"type\":\"Plot\"},{\"attributes\":{\"ticker\":{\"id\":\"2540\",\"type\":\"BasicTicker\"}},\"id\":\"2543\",\"type\":\"Grid\"},{\"attributes\":{\"overlay\":{\"id\":\"2665\",\"type\":\"BoxAnnotation\"}},\"id\":\"2551\",\"type\":\"BoxZoomTool\"},{\"attributes\":{},\"id\":\"2550\",\"type\":\"WheelZoomTool\"},{\"attributes\":{},\"id\":\"2663\",\"type\":\"UnionRenderers\"},{\"attributes\":{\"callback\":null},\"id\":\"2531\",\"type\":\"DataRange1d\"},{\"attributes\":{},\"id\":\"2540\",\"type\":\"BasicTicker\"},{\"attributes\":{\"fill_color\":{\"value\":\"#1f77b4\"},\"line_color\":{\"value\":\"#1f77b4\"},\"x\":{\"field\":\"x\"},\"y\":{\"field\":\"y\"}},\"id\":\"2566\",\"type\":\"Circle\"},{\"attributes\":{\"text\":\"PCA\"},\"id\":\"2529\",\"type\":\"Title\"},{\"attributes\":{\"data_source\":{\"id\":\"2564\",\"type\":\"ColumnDataSource\"},\"glyph\":{\"id\":\"2566\",\"type\":\"Circle\"},\"hover_glyph\":null,\"muted_glyph\":null,\"nonselection_glyph\":{\"id\":\"2567\",\"type\":\"Circle\"},\"selection_glyph\":null,\"view\":{\"id\":\"2569\",\"type\":\"CDSView\"}},\"id\":\"2568\",\"type\":\"GlyphRenderer\"},{\"attributes\":{\"callback\":null},\"id\":\"2533\",\"type\":\"DataRange1d\"},{\"attributes\":{},\"id\":\"2537\",\"type\":\"LinearScale\"},{\"attributes\":{\"fill_alpha\":{\"value\":0.1},\"fill_color\":{\"value\":\"#1f77b4\"},\"line_alpha\":{\"value\":0.1},\"line_color\":{\"value\":\"#1f77b4\"},\"x\":{\"field\":\"x\"},\"y\":{\"field\":\"y\"}},\"id\":\"2567\",\"type\":\"Circle\"},{\"attributes\":{},\"id\":\"2661\",\"type\":\"BasicTickFormatter\"},{\"attributes\":{},\"id\":\"2535\",\"type\":\"LinearScale\"},{\"attributes\":{},\"id\":\"2545\",\"type\":\"BasicTicker\"},{\"attributes\":{\"active_drag\":\"auto\",\"active_inspect\":\"auto\",\"active_multi\":null,\"active_scroll\":\"auto\",\"active_tap\":\"auto\",\"tools\":[{\"id\":\"2549\",\"type\":\"PanTool\"},{\"id\":\"2550\",\"type\":\"WheelZoomTool\"},{\"id\":\"2551\",\"type\":\"BoxZoomTool\"},{\"id\":\"2552\",\"type\":\"SaveTool\"},{\"id\":\"2553\",\"type\":\"ResetTool\"},{\"id\":\"2554\",\"type\":\"HelpTool\"},{\"id\":\"2563\",\"type\":\"HoverTool\"}]},\"id\":\"2555\",\"type\":\"Toolbar\"},{\"attributes\":{\"axis_label\":\"PC2\",\"formatter\":{\"id\":\"2659\",\"type\":\"BasicTickFormatter\"},\"ticker\":{\"id\":\"2545\",\"type\":\"BasicTicker\"}},\"id\":\"2544\",\"type\":\"LinearAxis\"},{\"attributes\":{\"callback\":null,\"tooltips\":[[\"x\",\"@x\"],[\"y\",\"@y\"]]},\"id\":\"2563\",\"type\":\"HoverTool\"},{\"attributes\":{},\"id\":\"2553\",\"type\":\"ResetTool\"},{\"attributes\":{\"axis_label\":\"PC1\",\"formatter\":{\"id\":\"2661\",\"type\":\"BasicTickFormatter\"},\"ticker\":{\"id\":\"2540\",\"type\":\"BasicTicker\"}},\"id\":\"2539\",\"type\":\"LinearAxis\"},{\"attributes\":{\"callback\":null,\"data\":{\"index\":[0,1,2,3,4,5,6,7,8,9,10,11,12,13,14,15,16,17,18,19,20,21,22,23,24,25,26,27,28,29,30,31,32,33,34,35,36,37,38,39,40,41,42,43,44,45,46,47,48,49,50,51,52,53,54,55,56,57,58,59,60,61,62,63,64,65,66,67,68,69,70,71,72,73,74,75,76,77,78,79,80,81,82,83,84,85,86,87,88,89,90,91,92,93,94,95,96,97,98,99,100,101,102,103,104,105,106,107,108,109,110,111,112,113,114,115,116,117,118,119,120,121,122,123,124,125,126,127,128,129,130,131,132,133,134,135,136,137,138,139,140,141,142,143,144],\"x\":{\"__ndarray__\":\"3x7+MygLIMC42AH5DeUewEFLUAmN4eq/Fq+YE11K6L+Zrvr1UC/ov0tgamSLJOa/m7nPaZpd479/gx9uMEviv6NfviYsB+G/2TD4/yth4b/ah9LUBXHev2gFGmzDxN2/6SxFQjYK3r+IEldgCvrcv/O0Lvo/89u/VsQVYHCb2b89totG/HfYv+HKOsfNV9i/yu+daQxe17+tE0RsqirWv8JOJhwwPtS/iqG5vlSh07/JcpthY47Sv69QxNTWstK/ePurX1FS0b+OwGLEYJDQv2ShrLI3UNC/bW23g/NDz79leWRb68vNvzPw+isWd86//A4Ag4wbzL8Zmr+/aIPIv3hlT3ABAsi/7656PWADx78eQ7m0WTbHv7qcbFhJ7MS/OQYmlraew78GFRiPSnbDv1+2oTEcvMG/O9+5rdH9wb9LdOM+Xt/AvwVN6aKNGcC/owxYEYdIvb8yNJClUiO4v072C1k367i/aWiWkDO7t7/B9nn/NY63v8uUUj0Ucre/SMNAoOastr/RA4G26VywvzgbQtEz9q+/viH8nuD/p79MjweHUq+gvyNIWQm5/HC/J+QuQaP2kL+wQZTeZw+Fv14J5TXJBIM/PJBpSeLjZj+FJVtYqzdov7tHrPmnLYQ/BOT5BhFzkz/1cgI+/fmZP9rL8FVLL5Q/D4g6GW2lqT97JE4THnimP5rfudYdk6U/rn6Lz1Qiqj+rpFDSBL+pP1MoKEgLTqk/hZVQ78/RrD/wg6Bp0FCtP882Y+Yse6w/aczVkKJLsD/wtCNpMpOyP3wfr7qQubk/NHMglS0UuD+wKew8s423P+I6vKOp+LY/0Bhly62Cvj+BCAvTqbC+PzR0sgmqqb4/FKks0yJQwD906kMBp5DDPz0dsaTxecI/brBctj0exD/uQu8+TgHGP/H5ZfXv0cU/XIgcat+Txj+1ZVTFMx3JP99WW/oxw8o/RbcdTLnzyj9H6ygqo93LP6m2DAuk28s/xchd/mxjzT+zbtHveZbOP4phWcnGgc4/AxGXO2Fq0T854zADnlHRP9ggcL69wdI/kQyjEr2H0j9W1fbfb83VPywFqPNoStU/7hlVFRQy1T+XtherZGzVP3cV4xqxnNU/9qTVR4++1j+Aio8xN9fWP+cOcqEE3dc/1QTJPZzi1z98d0APbz3XP4+n280D7Ng//VBGXbvo2D9PQ6QFZKTaP5/kyDyLFds/HVbZySyB2z8PGg8UotDcP3/jJCSA8t0/WmsH2VzE3T8dfDXe4cPdP3BamzHBHuA/Zevjk3EI4D//3FewjpnfP76l4q2EpeA/Y0mUVrF34T/Jytfj13LhP1uzLsmvceE/e8KG5Ev74T+7toHghiriP6Q4UXu9fOI/do+bIoJq4j99zGqNDRjjP2ZJw2P7XuM/+kGSyNIH5D9WABqCGMvkPza1IxsfyuU/RgknhqvV5j8wNklrcIPnP0XOht8m7ec/SMtyL7VB6D9J0kWn75rqP7NZoCGHN+s/g+Y47g8K7T/IIw5jfoPtP3l86pC7Ie0/XwUX7/gc8T8=\",\"dtype\":\"float64\",\"shape\":[145]},\"y\":{\"__ndarray__\":\"pzBwnQAO5D8eIQKssZnFP1D6FXZP8M4/dSaaCqKq8r+h9ILRYjDvv7LsC3gCe/y/o4ZONsdb5D8eN9gi4/P3v+tCmO6iUd2/GNdKRJF2uD/Up0ci86QNwGyLyJvWMAjAz37grlJO4r+ENhucMXyZP7S44bSAus+/Xaf8G/rKnj9Jmgwnt/j0vymOW2tdLtY/UwZQj7Ahsb/XYGkCIT72PwGoobq4M+Y/ECRKW9Xy7z+PxDtASHHRvy3vCiqgTNE/S0sBeUqVzL+MFfpt0Tm3v9peP5iqpOA/ECLr0Tsw5j9l8AEBf7XcPyhYoNDn3+I/+crrYO730r+r9YHPYzHLv1wNmp9EOM8/Nf5delGa4L9+axvwYdjAv2tnK7YFdtS/DGWZTPVs1D9RoXNGEl30P1Y13vXWhfK/h4WcCyey3r+9FSCwCaLwP+UcV4aU+cm/DyT2XLVK5j+S+VDyAdDDP9GZZU9UbfI/QPArWaxVwr/1K2ZcXlJ6P8yXUQexQrI/ibwPfSFr6D8CEBL2gsm8v0vrFSHRXM4/kwLYFq9h2D+z2uJoBofTP2+3MYdwz8K/aO7VhX+Xaz9swq6451fgP37k2nwD66k/+iQpWpAiwz8Lwkt/mqHWP6TYckEBkPQ/fnl1hU/LBcB2kC9lBgjavytrsrmlXc0/4ShbysWj0b930S5IHJrYP3uKnfPtMuA/LbBPtCGh4z+bz8YBcXnkP/kcTTA2W+8/ULa63OMy/b+0IludlkHov2/4atinQ+e/NmqCLKsg5D+6V4IF4CLOP60H4rDyMea/Nrjz2/lr5L9EWRZUoQ3hv0feavJbT+I/1+e1B8qqcT/szpw+BQ27P123sZ1qU78/eWfdXR0jxD8v7OGhGOPgP0V3W7sYuuE/2Rif/uYU7D/X4DWUyKvtv0V4CUkckMW/MbO8iJg2xz9gyYcCFpfhP55ZWZNaX8U/EM87FAwg8j+sbFBudeDbvwZReY53qeg/NtzrGGjX8j+x7/Als4XSv8kP9wVLRbs/nk0q1hIA0b8KozOtNeW6vxuHdjB6AQPAEIkEykK6xj+WxgC5fdzEP24EzhTLMdE/CQ57sAfJ4T/yp22I9gHnP2dWytQWk+o/IkDPZx0A3T80t4KP4wnlP1m07JwN5da/1+Ha/7i00j8BaasoKnroP8cUjP1Ppbi/qBqLWFAQzD+mbzLnINfhv3qa4z12q6C/bX7E3M4x7T8gZVGBBVLIvxJA3YZF52s/PFYdnj42yT/FT2rSzvjjP5CCDiZqLu2/6XrP0Psw0r8ovNs8p8L4P+HZctpSWe8/PztItxhN2L/v59ezjAvKPw8dVui4cOA/qysZRO5C8L/d42EcLArSP9zIctgrzeg/VhgqB4S/8D8A8/b/VpbWP5La48vTTeS/BJ8Zx9Mp0T/t3D/Zv5/wP8AofOEP4tc/4Kf7V2050D89XGNsgFUXwH1dERkyyQ/A8LWh+EUS0L/b1OjLsFb7P9Nmx97LgdY/lCt2GmYl4L8844JW7YfVP0vkaW3uW+A/DApLsUBE9z8=\",\"dtype\":\"float64\",\"shape\":[145]}},\"selected\":{\"id\":\"2664\",\"type\":\"Selection\"},\"selection_policy\":{\"id\":\"2663\",\"type\":\"UnionRenderers\"}},\"id\":\"2564\",\"type\":\"ColumnDataSource\"},{\"attributes\":{\"bottom_units\":\"screen\",\"fill_alpha\":{\"value\":0.5},\"fill_color\":{\"value\":\"lightgrey\"},\"left_units\":\"screen\",\"level\":\"overlay\",\"line_alpha\":{\"value\":1.0},\"line_color\":{\"value\":\"black\"},\"line_dash\":[4,4],\"line_width\":{\"value\":2},\"render_mode\":\"css\",\"right_units\":\"screen\",\"top_units\":\"screen\"},\"id\":\"2665\",\"type\":\"BoxAnnotation\"},{\"attributes\":{},\"id\":\"2664\",\"type\":\"Selection\"},{\"attributes\":{},\"id\":\"2549\",\"type\":\"PanTool\"},{\"attributes\":{},\"id\":\"2552\",\"type\":\"SaveTool\"},{\"attributes\":{},\"id\":\"2554\",\"type\":\"HelpTool\"},{\"attributes\":{\"dimension\":1,\"ticker\":{\"id\":\"2545\",\"type\":\"BasicTicker\"}},\"id\":\"2548\",\"type\":\"Grid\"},{\"attributes\":{\"source\":{\"id\":\"2564\",\"type\":\"ColumnDataSource\"}},\"id\":\"2569\",\"type\":\"CDSView\"},{\"attributes\":{},\"id\":\"2659\",\"type\":\"BasicTickFormatter\"}],\"root_ids\":[\"2528\"]},\"title\":\"Bokeh Application\",\"version\":\"1.4.0\"}};\n",
       "  var render_items = [{\"docid\":\"c523c5b7-b648-4ec1-829c-9e63c6cb0c52\",\"roots\":{\"2528\":\"529b4936-f42a-4d40-920d-38dd4de7ee0c\"}}];\n",
       "  root.Bokeh.embed.embed_items_notebook(docs_json, render_items);\n",
       "\n",
       "  }\n",
       "  if (root.Bokeh !== undefined) {\n",
       "    embed_document(root);\n",
       "  } else {\n",
       "    var attempts = 0;\n",
       "    var timer = setInterval(function(root) {\n",
       "      if (root.Bokeh !== undefined) {\n",
       "        clearInterval(timer);\n",
       "        embed_document(root);\n",
       "      } else {\n",
       "        attempts++;\n",
       "        if (attempts > 100) {\n",
       "          clearInterval(timer);\n",
       "          console.log(\"Bokeh: ERROR: Unable to run BokehJS code because BokehJS library is missing\");\n",
       "        }\n",
       "      }\n",
       "    }, 10, root)\n",
       "  }\n",
       "})(window);"
      ],
      "application/vnd.bokehjs_exec.v0+json": ""
     },
     "metadata": {
      "application/vnd.bokehjs_exec.v0+json": {
       "id": "2528"
      }
     },
     "output_type": "display_data"
    },
    {
     "name": "stdout",
     "output_type": "stream",
     "text": [
      "2\n"
     ]
    },
    {
     "name": "stderr",
     "output_type": "stream",
     "text": [
      "2021-08-27 17:27:24 Hail: INFO: Ordering unsorted dataset with network shuffle\n",
      "2021-08-27 17:27:24 Hail: INFO: Ordering unsorted dataset with network shuffle\n",
      "2021-08-27 17:27:25 Hail: INFO: wrote table with 159 rows in 8 partitions to /mnt/grid/janowitz/rdata/trigger/imputation_gwas/hail/ancestry_calls2.ht\n",
      "    Total size: 15.04 KiB\n",
      "    * Rows: 15.03 KiB\n",
      "    * Globals: 11.00 B\n",
      "    * Smallest partition: 0 rows (21.00 B)\n",
      "    * Largest partition:  159 rows (14.89 KiB)\n"
     ]
    }
   ],
   "source": [
    "#Run PCA excluding relateds then project onto everyone\n",
    "_, pcs, _ = hl.hwe_normalized_pca(mt_filter.GT, k=2)\n",
    "\n",
    "    \n",
    "scores_pca_ref = pcs\n",
    "scores_pca_ref = scores_pca_ref.transmute(**{f'PC{i}': scores_pca_ref.scores[i - 1] for i in range(1, 3)})\n",
    "\n",
    "\n",
    "scores_pca_ref = scores_pca_ref.annotate(PC1_Z = ((scores_pca_ref.PC1 - scores_pca_ref.aggregate(hl.agg.mean(scores_pca_ref.PC1))) / (scores_pca_ref.aggregate(hl.agg.stats(scores_pca_ref.PC1).stdev))),\n",
    "                        PC2_Z = ((scores_pca_ref.PC2 - scores_pca_ref.aggregate(hl.agg.mean(scores_pca_ref.PC2))) / (scores_pca_ref.aggregate(hl.agg.stats(scores_pca_ref.PC2).stdev))))\n",
    "\n",
    "p = hl.plot.scatter(scores_pca_ref.PC1_Z,\n",
    "                    scores_pca_ref.PC2_Z,\n",
    "                    title='PCA', xlabel='PC1', ylabel='PC2')\n",
    "show(p)\n",
    "\n",
    "scores_pca_ref = scores_pca_ref.filter((hl.abs(scores_pca_ref.PC1_Z) <6), keep=False)\n",
    "print(scores_pca_ref.count())\n",
    "\n",
    "panIO_predictions = panIO_predictions.annotate(pop = hl.case()\n",
    "                                              .when(hl.is_defined(scores_pca_ref[panIO_predictions.s]), \"Other\")\n",
    "                                              .default(panIO_predictions.pop))\n",
    "\n",
    "panIO_predictions_pd = panIO_predictions.to_pandas()\n",
    "panIO_predictions_pd = panIO_predictions_pd[[\"s\", \"pop\"]]\n",
    "panIO_predictions_pd['pop'].value_counts()\n",
    "panIO_predictions.write(\"/mnt/grid/janowitz/rdata/trigger/imputation_gwas/hail/ancestry_calls2.ht\", overwrite=True)\n"
   ]
  },
  {
   "cell_type": "markdown",
   "metadata": {},
   "source": [
    "## Generate cleaned dataset"
   ]
  },
  {
   "cell_type": "code",
   "execution_count": 44,
   "metadata": {},
   "outputs": [
    {
     "name": "stderr",
     "output_type": "stream",
     "text": [
      "2021-08-27 17:29:43 Hail: INFO: Coerced sorted dataset\n"
     ]
    },
    {
     "name": "stdout",
     "output_type": "stream",
     "text": [
      "(11262658, 145)\n"
     ]
    },
    {
     "name": "stderr",
     "output_type": "stream",
     "text": [
      "2021-08-27 17:30:36 Hail: INFO: Coerced sorted dataset\n",
      "2021-08-27 17:30:37 Hail: INFO: hwe_normalized_pca: running PCA using 145203 variants.\n",
      "2021-08-27 17:30:38 Hail: INFO: Coerced sorted dataset\n",
      "2021-08-27 17:30:39 Hail: INFO: pca: running PCA with 4 components...\n"
     ]
    },
    {
     "data": {
      "text/html": [
       "\n",
       "\n",
       "\n",
       "\n",
       "\n",
       "\n",
       "  <div class=\"bk-root\" id=\"71d936e9-ecbc-4e69-8148-1d9bc8cc1543\" data-root-id=\"2910\"></div>\n"
      ]
     },
     "metadata": {},
     "output_type": "display_data"
    },
    {
     "data": {
      "application/javascript": [
       "(function(root) {\n",
       "  function embed_document(root) {\n",
       "    \n",
       "  var docs_json = {\"cf85f6dc-0d78-491c-af20-5b6fd3da7ccc\":{\"roots\":{\"references\":[{\"attributes\":{\"below\":[{\"id\":\"2921\",\"type\":\"LinearAxis\"}],\"center\":[{\"id\":\"2925\",\"type\":\"Grid\"},{\"id\":\"2930\",\"type\":\"Grid\"}],\"left\":[{\"id\":\"2926\",\"type\":\"LinearAxis\"}],\"plot_height\":800,\"plot_width\":800,\"renderers\":[{\"id\":\"2950\",\"type\":\"GlyphRenderer\"}],\"title\":{\"id\":\"2911\",\"type\":\"Title\"},\"toolbar\":{\"id\":\"2937\",\"type\":\"Toolbar\"},\"x_range\":{\"id\":\"2913\",\"type\":\"DataRange1d\"},\"x_scale\":{\"id\":\"2917\",\"type\":\"LinearScale\"},\"y_range\":{\"id\":\"2915\",\"type\":\"DataRange1d\"},\"y_scale\":{\"id\":\"2919\",\"type\":\"LinearScale\"}},\"id\":\"2910\",\"subtype\":\"Figure\",\"type\":\"Plot\"},{\"attributes\":{\"source\":{\"id\":\"2946\",\"type\":\"ColumnDataSource\"}},\"id\":\"2951\",\"type\":\"CDSView\"},{\"attributes\":{\"active_drag\":\"auto\",\"active_inspect\":\"auto\",\"active_multi\":null,\"active_scroll\":\"auto\",\"active_tap\":\"auto\",\"tools\":[{\"id\":\"2931\",\"type\":\"PanTool\"},{\"id\":\"2932\",\"type\":\"WheelZoomTool\"},{\"id\":\"2933\",\"type\":\"BoxZoomTool\"},{\"id\":\"2934\",\"type\":\"SaveTool\"},{\"id\":\"2935\",\"type\":\"ResetTool\"},{\"id\":\"2936\",\"type\":\"HelpTool\"},{\"id\":\"2945\",\"type\":\"HoverTool\"}]},\"id\":\"2937\",\"type\":\"Toolbar\"},{\"attributes\":{\"callback\":null},\"id\":\"2913\",\"type\":\"DataRange1d\"},{\"attributes\":{},\"id\":\"3057\",\"type\":\"BasicTickFormatter\"},{\"attributes\":{\"callback\":null,\"tooltips\":[[\"x\",\"@x\"],[\"y\",\"@y\"]]},\"id\":\"2945\",\"type\":\"HoverTool\"},{\"attributes\":{\"text\":\"PCA\"},\"id\":\"2911\",\"type\":\"Title\"},{\"attributes\":{},\"id\":\"2917\",\"type\":\"LinearScale\"},{\"attributes\":{\"axis_label\":\"PC1\",\"formatter\":{\"id\":\"3059\",\"type\":\"BasicTickFormatter\"},\"ticker\":{\"id\":\"2922\",\"type\":\"BasicTicker\"}},\"id\":\"2921\",\"type\":\"LinearAxis\"},{\"attributes\":{},\"id\":\"2934\",\"type\":\"SaveTool\"},{\"attributes\":{\"dimension\":1,\"ticker\":{\"id\":\"2927\",\"type\":\"BasicTicker\"}},\"id\":\"2930\",\"type\":\"Grid\"},{\"attributes\":{\"fill_alpha\":{\"value\":0.1},\"fill_color\":{\"value\":\"#1f77b4\"},\"line_alpha\":{\"value\":0.1},\"line_color\":{\"value\":\"#1f77b4\"},\"x\":{\"field\":\"x\"},\"y\":{\"field\":\"y\"}},\"id\":\"2949\",\"type\":\"Circle\"},{\"attributes\":{},\"id\":\"2927\",\"type\":\"BasicTicker\"},{\"attributes\":{},\"id\":\"2919\",\"type\":\"LinearScale\"},{\"attributes\":{},\"id\":\"2936\",\"type\":\"HelpTool\"},{\"attributes\":{},\"id\":\"3059\",\"type\":\"BasicTickFormatter\"},{\"attributes\":{},\"id\":\"2935\",\"type\":\"ResetTool\"},{\"attributes\":{\"axis_label\":\"PC2\",\"formatter\":{\"id\":\"3057\",\"type\":\"BasicTickFormatter\"},\"ticker\":{\"id\":\"2927\",\"type\":\"BasicTicker\"}},\"id\":\"2926\",\"type\":\"LinearAxis\"},{\"attributes\":{},\"id\":\"2922\",\"type\":\"BasicTicker\"},{\"attributes\":{},\"id\":\"2932\",\"type\":\"WheelZoomTool\"},{\"attributes\":{},\"id\":\"2931\",\"type\":\"PanTool\"},{\"attributes\":{\"callback\":null,\"data\":{\"index\":[0,1,2,3,4,5,6,7,8,9,10,11,12,13,14,15,16,17,18,19,20,21,22,23,24,25,26,27,28,29,30,31,32,33,34,35,36,37,38,39,40,41,42,43,44,45,46,47,48,49,50,51,52,53,54,55,56,57,58,59,60,61,62,63,64,65,66,67,68,69,70,71,72,73,74,75,76,77,78,79,80,81,82,83,84,85,86,87,88,89,90,91,92,93,94,95,96,97,98,99,100,101,102,103,104,105,106,107,108,109,110,111,112,113,114,115,116,117,118,119,120,121,122,123,124,125,126,127,128,129,130,131,132,133,134,135,136,137,138,139,140,141,142,143],\"x\":{\"__ndarray__\":\"jh1E/eBP3r/8uqvcmvLUv/uFwcoXjNS/GW8J+BnU0L8FwVtyZhbQv+76+Ks4P8m/z2j8dnNSxL8OFOMBSz3Dv4GJm1aKg8C/MF7V6d2wvL/TBRSbFFu7v8Iqp4Z4ULi/4aXWP4Ynt79lPZ1h1QC3v4Osbh9ggbS/20s/JpY2tL/5SQpLAXmyv+L7f4lWcrC/gvO3Unnwr79f+ElJBA+uv+DZn+3wjKy/1qd0AVPZq79lOG8gaXKrv6mamYvmRaq/ZnXvPTYlpr/Gs1g8bnWmv5dqqOINg6a/7eMB5n2No78rD71CSNiiv2cxz+pxKKO/SjAmK9fxor/uE7QxbCyhv018/YJCzZ2/ydAHVErxnL8Qrd8Cf2adv1VO4WUZ15y/0VtwXOhqm7+cqDG7QqCZv2HOAdnkX5m/6TWZUT7ol7+Mb/XVU3CWvzyN8ucbU5W/Cz2Bal78k7/wntfr2vqSvzR19xjo6Y2/5BN+26i/jL9O4IzAUOSOv8nLxAjjHI6/oaLRIgIwir+Tt2myK1WLv+juIUK9+4e/TVZmWSslhr/0MGCnI4SAvwmknroeF4K/NLUtouUFf7+NYzSP+EllvzxHFCcszWS/CSB2kqHBXr/9x+TxQL1Vv8RkCMXPJEm/AZ+refh5Yz/Fu0RCvAN0PxSSKnjJEXU/w6fkWrvhgj9uv59uGvOHP/QCtEpAwog/NesCbpNOij8a8OCHacmJPwERlilwlYw/TLbZz52Ojj/x2HoT7NOQP0yFtALIxJE/fCx+/sRVkT8JaXF17RiSPz8xIlXbQpI/dVHfSJZVlD/jJdh/8DmVP4aDyy9J6pQ/Djt+25/BlD/mzlS3g9qUPx4lfBAgaJY/DXJEgJUWlj8dVexqU4KWP5sAmm1g1pY/zFG4cAgNmT/oYdAFtJyYP6+EgRvvlZk/0RZot/H7nD+BIhy89FWcP6XgQxpEzZ4/yiFYktQcnz8Z2Z2oPQagP4SGK4oZ6J4/wCtv7ocpoT+EKiXX8/mhP4SD/IGPLKI/bkHoH4I3oj+ZVb9KdYejP7TQPGZsMaQ/3voe6aKEpD/ZteAlGQamP7QJf3I6DKc/jL1F8bKMpj/fwWMtvRynPxgrLGyKfqc/r8BAO1eLqD/y38CQxLOpP6KuHXjDVqk/6kAhb/XgqT/WiS6FE4CqPxYenMygpKo/hkZQP0Lfqj8TcHvSn6iqP39l36s1jqs/nMLt7YJ9qz95lggnWs+rP4kBkKWHv6s/hTE5bweirD+CSoWqW6CsP8dRiGWT7aw/jZdTEzq/rT/fjjlka6SwP+KSHxoxbbA/GBtgMH5HsT/4wX0kFmyxP+w+ZaRhqLE/34YiHv4Dsz84taAobRq0P0ZhlvXnv7U/7pMmLvcotj/LIpn11hW2P464dkSNB7Y/MDIO9lFDtz+lYnW/EGe3P/NWmz+Yv7c/ivuYxGCduT+13/vza2i6P2R3RPgNQLw/qymTKlaHvD9u0+wRvba8PwatkZY3QsA/4nGp7ZUYwT8M/lCacz3BPw7oR425xcM/\",\"dtype\":\"float64\",\"shape\":[144]},\"y\":{\"__ndarray__\":\"PZnKUNCj17+BDhsXn6t/PyuEPsGgxaQ/ADDcaw8szj8tXm/djZTIP4VcdaL3wn0/MesNQ1tShz8YHaEffl2kv6uBXaWPSsM/3gGvannesz9XIwXicWDBPzJkXn5xTbm/TbTVNN6eqL90XKwRxGzBP7cpa1Wj16c/8hxK1CDadD8z14UbYRN5PxbVhw88goQ/kTXIITEwwT9kZCmhroB4v1nHj3udqbA/vIXnDgV9ob+Ypn3PNT2xP8eZrb29nq6/m0xdGBGcrr/aEeWUXUyFv/mpAJgY+LI/ExM00iJjv7/gpTmGRD/Av7/dGNtR1ri/r1BSXJswk7+WyuX2WS+Sv8BeFP9nErW/SPS8+2hwqb86k8QWluGjv+VVAvcDnKw/4HahUHrYjb9qFIf6uXCDP1n7GQ+lrK8/Rtipv5udtT9JhwXXF3aov6VRx8Ebplw/BVDFRuMajL9VkTCiK6qWv3dDRspMBsS/7psjw91Qnr+JRZLcseukPx9mFlwOSLE/4w9mBokqgb/oYq/IYoGgP3hYMAgCyKI/KnBN1lGRkL92wyLOFneYv5y+eWY5RbE/LauoymbusL8kDkWFZOOiP3RBFCcQxLu/jo6tCpgCtb8VRrJuRwh7P3JV1KNxZaK/OTDKNlEgq7/VMbfWkfqrv2//hn4su7k/N7J5usxgoj/PDoVt75u3v+YSxBW+K70/tuDVpICUfz+9ysD/G5OjPzS6MvKHP6S/R2hjvDpinb9gNZJMOjaPv/LGBkL9Frc/cgIkiteEuj8vEfP00ZiFP80ZVm+LUrE/JVRKDwGFt7+kdmI5+4axvyjvWEDtd4K/HM9zQ+lNoj9UYmL2daGqP2NU7kD+76i/hwa48bCmib89qMtR/NWGvxdceGsmW7k/mvuANUawzL8ihkXpKZpqv3CPxBhbKrA/Zlcn2KOOZr8Z44ftBL2wP9MbtqyUgoE/JV2h0ja+wr8mOUF4VROmvx4PeQZs1aE/a/T10QOJsL+7nZ7o8qK6v0k7Cx5XC6K/R9NHvIe/lD+8wN1b9yqyP7A9EvAponi/lbJUNnrZpT8GvA8ESJWWP0MbMGlYpqK/4DuYrI45gb/oSvkNOIi+P7shknbED7u/Uq086bg+wz/RnfnAV0+zv2kykGcAd6E/ihhPu+ixZT+SM5KmVjrLvzRuaSoVjaC/IEll3Tc7gb9SKPVjzwDBP+FmWSr2opi/ROcoC3Pnjb8o6VaRdjChvygFfZqWB8s/oGuUwCamqL9xEhyx3gyZPw0nae3Cxq6/qbv9mCnorb8kzJGxAaiZvysL2fOVZZ0/YeYkgCLRwD9qSvZJgx92v65FiGEnU1y/Xx62MXSSwj8DkjkqSLtqP8j8/m4jqGG/7ufG9KZ0uL+lajOyo0C1v2LS7ZbNkcE/FtGgdlvMwb9UcOwE3xuGP1ALt1Zoz7E/tY+X4KKvtz9Xw8pI6nS2vyjJAo1D3nK/vLYcXNRVtz/hFchL55CovzxWYJha8Lo/8TA8q1DRuD9agJXGNJy4v3MdYI/CeMu/\",\"dtype\":\"float64\",\"shape\":[144]}},\"selected\":{\"id\":\"3062\",\"type\":\"Selection\"},\"selection_policy\":{\"id\":\"3061\",\"type\":\"UnionRenderers\"}},\"id\":\"2946\",\"type\":\"ColumnDataSource\"},{\"attributes\":{},\"id\":\"3061\",\"type\":\"UnionRenderers\"},{\"attributes\":{\"data_source\":{\"id\":\"2946\",\"type\":\"ColumnDataSource\"},\"glyph\":{\"id\":\"2948\",\"type\":\"Circle\"},\"hover_glyph\":null,\"muted_glyph\":null,\"nonselection_glyph\":{\"id\":\"2949\",\"type\":\"Circle\"},\"selection_glyph\":null,\"view\":{\"id\":\"2951\",\"type\":\"CDSView\"}},\"id\":\"2950\",\"type\":\"GlyphRenderer\"},{\"attributes\":{},\"id\":\"3062\",\"type\":\"Selection\"},{\"attributes\":{\"callback\":null},\"id\":\"2915\",\"type\":\"DataRange1d\"},{\"attributes\":{\"overlay\":{\"id\":\"3063\",\"type\":\"BoxAnnotation\"}},\"id\":\"2933\",\"type\":\"BoxZoomTool\"},{\"attributes\":{\"ticker\":{\"id\":\"2922\",\"type\":\"BasicTicker\"}},\"id\":\"2925\",\"type\":\"Grid\"},{\"attributes\":{\"fill_color\":{\"value\":\"#1f77b4\"},\"line_color\":{\"value\":\"#1f77b4\"},\"x\":{\"field\":\"x\"},\"y\":{\"field\":\"y\"}},\"id\":\"2948\",\"type\":\"Circle\"},{\"attributes\":{\"bottom_units\":\"screen\",\"fill_alpha\":{\"value\":0.5},\"fill_color\":{\"value\":\"lightgrey\"},\"left_units\":\"screen\",\"level\":\"overlay\",\"line_alpha\":{\"value\":1.0},\"line_color\":{\"value\":\"black\"},\"line_dash\":[4,4],\"line_width\":{\"value\":2},\"render_mode\":\"css\",\"right_units\":\"screen\",\"top_units\":\"screen\"},\"id\":\"3063\",\"type\":\"BoxAnnotation\"}],\"root_ids\":[\"2910\"]},\"title\":\"Bokeh Application\",\"version\":\"1.4.0\"}};\n",
       "  var render_items = [{\"docid\":\"cf85f6dc-0d78-491c-af20-5b6fd3da7ccc\",\"roots\":{\"2910\":\"71d936e9-ecbc-4e69-8148-1d9bc8cc1543\"}}];\n",
       "  root.Bokeh.embed.embed_items_notebook(docs_json, render_items);\n",
       "\n",
       "  }\n",
       "  if (root.Bokeh !== undefined) {\n",
       "    embed_document(root);\n",
       "  } else {\n",
       "    var attempts = 0;\n",
       "    var timer = setInterval(function(root) {\n",
       "      if (root.Bokeh !== undefined) {\n",
       "        clearInterval(timer);\n",
       "        embed_document(root);\n",
       "      } else {\n",
       "        attempts++;\n",
       "        if (attempts > 100) {\n",
       "          clearInterval(timer);\n",
       "          console.log(\"Bokeh: ERROR: Unable to run BokehJS code because BokehJS library is missing\");\n",
       "        }\n",
       "      }\n",
       "    }, 10, root)\n",
       "  }\n",
       "})(window);"
      ],
      "application/vnd.bokehjs_exec.v0+json": ""
     },
     "metadata": {
      "application/vnd.bokehjs_exec.v0+json": {
       "id": "2910"
      }
     },
     "output_type": "display_data"
    },
    {
     "name": "stderr",
     "output_type": "stream",
     "text": [
      "2021-08-27 17:30:54 Hail: INFO: Ordering unsorted dataset with network shuffle\n"
     ]
    }
   ],
   "source": [
    "#Import TCGA germline data post marker QC\n",
    "mt = hl.read_matrix_table('/mnt/grid/janowitz/rdata/trigger/imputation_gwas/raw_cts.mt')\n",
    "mt_filter = hl.read_matrix_table('/mnt/grid/janowitz/rdata/trigger/imputation_gwas/qc_cts.mt')\n",
    "\n",
    "#Filter to autosomal SNPs with MAF >0.1%\n",
    "mt = mt.filter_rows(mt.locus.in_autosome())\n",
    "mt = hl.variant_qc(mt) #Default Hail variant QC pipeline\n",
    "mt = mt.filter_rows(mt.variant_qc.AF[1] > 0.001) #MAF > 0.1%\n",
    "\n",
    "#Add ancestry data\n",
    "panIO_predictions = hl.read_table(\"/mnt/grid/janowitz/rdata/trigger/imputation_gwas/hail/ancestry_calls2.ht\")\n",
    "mt = mt.annotate_cols(pop = panIO_predictions[mt.s].pop)\n",
    "mt_filter = mt_filter.annotate_cols(pop = panIO_predictions[mt_filter.s].pop)\n",
    "\n",
    "#Filter to European population\n",
    "mt = mt.filter_cols(mt.pop=='EUR')\n",
    "mt_filter = mt_filter.filter_cols(mt_filter.pop=='EUR')\n",
    "\n",
    "#Remove related samples\n",
    "related_samples_to_remove = hl.read_table(\"/mnt/grid/janowitz/rdata/trigger/imputation_gwas/hail/related_remove_cts.ht\")\n",
    "mt = mt.filter_cols(~hl.is_defined(related_samples_to_remove[mt.col_key]))\n",
    "mt_filter = mt_filter.filter_cols(~hl.is_defined(related_samples_to_remove[mt_filter.col_key]))\n",
    "\n",
    "print(mt.count())\n",
    "\n",
    "#Generate principal components from high-quality SNPs with MAF >1% (selected above)\n",
    "mt_filter = hl.variant_qc(mt_filter) \n",
    "mt_filter = mt_filter.filter_rows(mt_filter.variant_qc.AF[1] > 0.01) #MAF > 1% to speed up PCA\n",
    "_, scores_pca_ref, _ = hl.hwe_normalized_pca(mt_filter.GT, k=4)\n",
    "\n",
    "p = hl.plot.scatter(scores_pca_ref.scores[0],\n",
    "                    scores_pca_ref.scores[1],\n",
    "                    title='PCA', xlabel='PC1', ylabel='PC2')\n",
    "show(p)\n",
    "\n",
    "scores_pca_ref = scores_pca_ref.transmute(**{f'PC{i}': scores_pca_ref.scores[i - 1] for i in range(1, 5)})\n",
    "scores_pd = scores_pca_ref.to_pandas()\n",
    "scores_pd = scores_pd.rename(columns={'s': 'IID'})\n",
    "\n",
    "scores_pd.to_csv('/mnt/grid/janowitz/rdata/trigger/imputation_gwas/hail/cts_pcs.tsv', sep=\"\\t\", index=False)"
   ]
  },
  {
   "cell_type": "markdown",
   "metadata": {},
   "source": [
    "## Extract DIRC3 SNP"
   ]
  },
  {
   "cell_type": "code",
   "execution_count": 45,
   "metadata": {},
   "outputs": [
    {
     "name": "stderr",
     "output_type": "stream",
     "text": [
      "2021-08-27 17:31:24 Hail: INFO: Coerced sorted dataset\n",
      "2021-08-27 17:31:25 Hail: INFO: Coerced sorted dataset\n"
     ]
    }
   ],
   "source": [
    "mt = mt.filter_rows(mt.locus == hl.locus(\"2\", 218143731,reference_genome='GRCh37'))\n",
    "mt.count()\n",
    "\n",
    "variant2_entries = mt.entries().to_pandas()\n",
    "variant2_entries['score_allele'] = [','.join(map(str, l)) for l in variant2_entries['GT.alleles']]\n",
    "variant2_entries['score_allele'] = variant2_entries['score_allele'].map({'0,0': 0, '1,0': 1,\n",
    "                                                                            '0,1':1, '1,1':2})\n",
    "variant2_entries.to_csv('cts_dirc3_snp.csv', index=False)"
   ]
  }
 ],
 "metadata": {
  "kernelspec": {
   "display_name": "Python/3.7.4 (src)",
   "language": "python",
   "name": "python_3.7.4-gcccore-8.3.0"
  },
  "language_info": {
   "codemirror_mode": {
    "name": "ipython",
    "version": 3
   },
   "file_extension": ".py",
   "mimetype": "text/x-python",
   "name": "python",
   "nbconvert_exporter": "python",
   "pygments_lexer": "ipython3",
   "version": "3.7.4"
  }
 },
 "nbformat": 4,
 "nbformat_minor": 4
}
