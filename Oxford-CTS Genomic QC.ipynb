{
 "cells": [
  {
   "cell_type": "markdown",
   "metadata": {},
   "source": [
    "# Oxford-CTS Genomic QC"
   ]
  },
  {
   "cell_type": "markdown",
   "metadata": {},
   "source": [
    "## Load Hail"
   ]
  },
  {
   "cell_type": "code",
   "execution_count": null,
   "metadata": {},
   "outputs": [],
   "source": [
    "import seaborn as sns\n",
    "import hail as hl\n",
    "import os\n",
    "from gnomad.utils.liftover import *\n",
    "from gnomad.utils.annotations import *\n",
    "from gnomad.sample_qc.pipeline import *\n",
    "from gnomad.sample_qc.ancestry import *\n",
    "\n",
    "tmp = \"/mnt/grid/janowitz/home/skleeman/tmp2\"\n",
    "os.environ[\"SPARK_LOCAL_DIRS\"]=tmp\n",
    "\n",
    "os.environ[\"PYSPARK_SUBMIT_ARGS\"] =\"--driver-memory 200g --executor-memory 2g pyspark-shell\"\n",
    " \n",
    "hl.init(default_reference='GRCh37', master='local[8]',min_block_size=128, local_tmpdir=tmp, tmp_dir=tmp)\n",
    "\n"
   ]
  },
  {
   "cell_type": "markdown",
   "metadata": {},
   "source": [
    "## Import data\n",
    "\n",
    "Import HRC-imputed (GRCh37) genotype data"
   ]
  },
  {
   "cell_type": "code",
   "execution_count": null,
   "metadata": {},
   "outputs": [],
   "source": [
    "mt = hl.import_vcf('/mnt/grid/janowitz/rdata/trigger/imputation_gwas/*.vcf.gz', force_bgz=True,\n",
    "                   reference_genome='GRCh37')\n",
    "mt = mt.checkpoint('/mnt/grid/janowitz/rdata/trigger/imputation_gwas/raw_cts.mt', overwrite=True)\n"
   ]
  },
  {
   "cell_type": "markdown",
   "metadata": {},
   "source": [
    "## Generate QC-ready cohort"
   ]
  },
  {
   "cell_type": "code",
   "execution_count": null,
   "metadata": {},
   "outputs": [],
   "source": [
    "qc_mt = mt.filter_rows(mt.info.INFO == 1)\n",
    "\n",
    "qc_mt = default_lift_data(qc_mt) #GNOMAD pipeline for liftover to GRCh38, including reverse complement on negative strand\n",
    "\n",
    "#Filtering\n",
    "\n",
    "qc_mt = hl.variant_qc(qc_mt) #Default Hail variant QC pipeline\n",
    "qc_mt = qc_mt.filter_rows((hl.len(qc_mt.alleles) == 2) & hl.is_snp(qc_mt.alleles[0], qc_mt.alleles[1]))\n",
    "qc_mt = qc_mt.filter_rows(qc_mt.ref_allele_mismatch == False) #Remove alleles with reference mismatch ('allele flips')\n",
    "qc_mt = qc_mt.filter_rows(qc_mt.variant_qc.AF[1] > 0.01) #MAF > 1!\n",
    "\n",
    "#Exclude LD intervals from plinkQC package, LD pruning in PLINK (not working in Hail due to bug)\n",
    "intervals = hl.import_bed('/mnt/grid/janowitz/home/skleeman/ukbiobank/cancergwas/remove_ld_grch38.bed',\n",
    "                         reference_genome='GRCh38')\n",
    "qc_mt = qc_mt.filter_rows(hl.is_defined(intervals[qc_mt.locus]),keep=False)\n",
    "\n",
    "pruned_variant_table = hl.ld_prune(qc_mt.GT, r2=0.1)\n",
    "qc_mt = qc_mt.filter_rows(hl.is_defined(pruned_variant_table[qc_mt.row_key]))\n",
    "\n",
    "print(qc_mt.count())\n",
    "qc_mt.write('/mnt/grid/janowitz/rdata/trigger/imputation_gwas/qc_cts.mt', overwrite=True)"
   ]
  },
  {
   "cell_type": "markdown",
   "metadata": {},
   "source": [
    "## Ancestry classification"
   ]
  },
  {
   "cell_type": "code",
   "execution_count": null,
   "metadata": {},
   "outputs": [],
   "source": [
    "from gnomad.utils.liftover import *\n",
    "from gnomad.utils.annotations import *\n",
    "from gnomad.sample_qc.pipeline import *\n",
    "from gnomad.sample_qc.ancestry import *\n",
    "\n",
    "qc_mt = hl.read_matrix_table('/mnt/grid/janowitz/rdata/trigger/imputation_gwas/qc_cts.mt')\n",
    "\n",
    "#Import 1000G/HGDP reference\n",
    "this_ref = hl.read_matrix_table('/mnt/grid/janowitz/home/references/1k_hgdp/ref_gnomadfilters.mt')\n",
    "related_samples_to_remove_ref = hl.read_table(\"/mnt/grid/janowitz/home/references/1k_hgdp/related_remove_ref.ht\")\n",
    "\n",
    "#Merge cohorts\n",
    "tcga_in_ref = qc_mt.filter_rows(hl.is_defined(this_ref.rows()[qc_mt.row_key]))\n",
    "print('sites in ref and TCGA data, inds in TCGA: ' + str(tcga_in_ref.count()))\n",
    "\n",
    "ref_in_tcga= this_ref.filter_rows(hl.is_defined(qc_mt.rows()[this_ref.row_key]))\n",
    "print('sites in ref and TCGA data, inds in ref: ' + str(ref_in_tcga.count()))\n",
    "\n",
    "tcga_in_ref = tcga_in_ref.checkpoint('/mnt/grid/janowitz/rdata/trigger/imputation_gwas/hail/tcga_in_ref.mt', overwrite=True)\n",
    "ref_in_tcga = ref_in_tcga.checkpoint('/mnt/grid/janowitz/rdata/trigger/imputation_gwas/hail/ref_in_tcga.mt', overwrite=True)\n",
    "\n",
    "#Ancestry PCA\n",
    "#--> Reference, label with inferred populations, exclude relateds\n",
    "_, scores_pca_ref, loadings_pca_ref = run_pca_with_relateds(ref_in_tcga, related_samples_to_remove_ref, \n",
    "                                                               n_pcs=10, autosomes_only=True)\n",
    "\n",
    "#--> Project to PanIO\n",
    "\n",
    "scores_pca_tcga = pc_project(mt = tcga_in_ref, loadings_ht = loadings_pca_ref)\n",
    "\n",
    "#Train RF classifier\n",
    "merge = scores_pca_ref.union(scores_pca_tcga)\n",
    "\n",
    "merge = merge.annotate(\n",
    "    training_pop=this_ref.cols()[merge.key].labeled_subpop)\n",
    "\n",
    "recode = pd.read_excel('/mnt/grid/janowitz/home/references/1k_hgdp/recode.xlsx')\n",
    "recode_ht = hl.Table.from_pandas(recode, key='labeled_subpop')\n",
    "\n",
    "merge = merge.annotate(\n",
    "    training_pop=recode_ht[merge.training_pop].superpop)\n",
    "\n",
    "predictions_ref, classifer_rf_ref = assign_population_pcs(merge, pc_cols = merge.scores, known_col = 'training_pop', seed=501, min_prob = 0.70, missing_label='Other')\n",
    "\n",
    "tcga_predictions = predictions_ref.semi_join(scores_pca_tcga) #Subset PanIO samples\n",
    "\n",
    "tcga_predictions.write(\"/mnt/grid/janowitz/rdata/trigger/imputation_gwas/hail/ancestry_calls.ht\", overwrite=True)"
   ]
  },
  {
   "cell_type": "markdown",
   "metadata": {},
   "source": [
    "### Visualize ancestry"
   ]
  },
  {
   "cell_type": "code",
   "execution_count": null,
   "metadata": {},
   "outputs": [],
   "source": [
    "import umap\n",
    "import pandas as pd\n",
    "import seaborn as sns\n",
    "import matplotlib.pyplot as plt\n",
    "\n",
    "ukb_predictions = hl.read_table(\"/mnt/grid/janowitz/rdata/trigger/imputation_gwas/hail/ancestry_calls.ht\")\n",
    "\n",
    "ukb_predictions_pd = ukb_predictions.to_pandas()\n",
    "\n",
    "data = pd.DataFrame(ukb_predictions_pd['pca_scores'].to_list())\n",
    "\n",
    "proj_umap_pca = umap.UMAP(n_components=2, n_neighbors=15, min_dist=0.5, random_state=42).fit_transform(data)\n",
    "\n",
    "\n",
    "umap = pd.DataFrame(proj_umap_pca)\n",
    "umap['pop'] = ukb_predictions_pd['pop']\n",
    "\n",
    "plt.figure(figsize=(10,10))\n",
    "sns.color_palette(\"bright\")\n",
    "sns.scatterplot(data=umap, x=0, y=1, hue=\"pop\", s=5, alpha = 0.7, marker ='o')\n",
    "plt.show()"
   ]
  },
  {
   "cell_type": "code",
   "execution_count": null,
   "metadata": {},
   "outputs": [],
   "source": [
    "ukb_predictions_pd = ukb_predictions.to_pandas()\n",
    "\n",
    "ukb_predictions_pd = ukb_predictions_pd[[\"s\", \"pop\"]]\n",
    "ukb_predictions_pd['pop'].value_counts()"
   ]
  },
  {
   "cell_type": "markdown",
   "metadata": {},
   "source": [
    "## Identify related subjects"
   ]
  },
  {
   "cell_type": "code",
   "execution_count": null,
   "metadata": {},
   "outputs": [],
   "source": [
    "relatedness_ht = hl.pc_relate(qc_mt.GT, 0.01, k=10, min_kinship=0.05, block_size=512)\n",
    "\n",
    "related_samples_to_remove = hl.maximal_independent_set(relatedness_ht.i, relatedness_ht.j, False)\n",
    "print(related_samples_to_remove.count())\n",
    "\n",
    "related_samples_to_remove.write(\"/mnt/grid/janowitz/rdata/trigger/imputation_gwas/hail/related_remove_cts.ht\",overwrite=True)"
   ]
  },
  {
   "cell_type": "markdown",
   "metadata": {},
   "source": [
    "### Check final PCA"
   ]
  },
  {
   "cell_type": "code",
   "execution_count": null,
   "metadata": {},
   "outputs": [],
   "source": [
    "import pandas as pd\n",
    "from hail.plot import show\n",
    "from pprint import pprint\n",
    "hl.plot.output_notebook()\n",
    "\n",
    "qc_mt = hl.read_matrix_table('/mnt/grid/janowitz/rdata/trigger/imputation_gwas/qc_cts.mt')\n",
    "\n",
    "#Remove related samples\n",
    "related_samples_to_remove = hl.read_table(\"/mnt/grid/janowitz/rdata/trigger/imputation_gwas/hail/related_remove_cts.ht\")\n",
    "qc_mt = qc_mt.filter_cols(~hl.is_defined(related_samples_to_remove[qc_mt.col_key]))\n",
    "\n",
    "#Add ancestry data\n",
    "panIO_predictions = hl.read_table(\"/mnt/grid/janowitz/rdata/trigger/imputation_gwas/hail/ancestry_calls2.ht\")\n",
    "qc_mt = qc_mt.annotate_cols(pop = panIO_predictions[qc_mt.s].pop)\n",
    "\n",
    "mt_filter = qc_mt.filter_cols(qc_mt.pop=='EUR')\n",
    "print(mt_filter.count(), flush=True)\n",
    "\n",
    "eigenvalues, pcs, _ = hl.hwe_normalized_pca(mt_filter.GT, k=4)\n",
    "                          \n",
    "mt_filter = mt_filter.annotate_cols(scores = pcs[mt_filter.s].scores)\n",
    "                          \n",
    "p = hl.plot.scatter(mt_filter.scores[0],\n",
    "                    mt_filter.scores[1],\n",
    "                    title='PCA', xlabel='PC1', ylabel='PC2')\n",
    "show(p)"
   ]
  },
  {
   "cell_type": "code",
   "execution_count": null,
   "metadata": {},
   "outputs": [],
   "source": [
    "#Run PCA excluding relateds then project onto everyone\n",
    "_, pcs, _ = hl.hwe_normalized_pca(mt_filter.GT, k=2)\n",
    "\n",
    "    \n",
    "scores_pca_ref = pcs\n",
    "scores_pca_ref = scores_pca_ref.transmute(**{f'PC{i}': scores_pca_ref.scores[i - 1] for i in range(1, 3)})\n",
    "\n",
    "\n",
    "scores_pca_ref = scores_pca_ref.annotate(PC1_Z = ((scores_pca_ref.PC1 - scores_pca_ref.aggregate(hl.agg.mean(scores_pca_ref.PC1))) / (scores_pca_ref.aggregate(hl.agg.stats(scores_pca_ref.PC1).stdev))),\n",
    "                        PC2_Z = ((scores_pca_ref.PC2 - scores_pca_ref.aggregate(hl.agg.mean(scores_pca_ref.PC2))) / (scores_pca_ref.aggregate(hl.agg.stats(scores_pca_ref.PC2).stdev))))\n",
    "\n",
    "p = hl.plot.scatter(scores_pca_ref.PC1_Z,\n",
    "                    scores_pca_ref.PC2_Z,\n",
    "                    title='PCA', xlabel='PC1', ylabel='PC2')\n",
    "show(p)\n",
    "\n",
    "scores_pca_ref = scores_pca_ref.filter((hl.abs(scores_pca_ref.PC1_Z) <6), keep=False)\n",
    "print(scores_pca_ref.count())\n",
    "\n",
    "panIO_predictions = panIO_predictions.annotate(pop = hl.case()\n",
    "                                              .when(hl.is_defined(scores_pca_ref[panIO_predictions.s]), \"Other\")\n",
    "                                              .default(panIO_predictions.pop))\n",
    "\n",
    "panIO_predictions_pd = panIO_predictions.to_pandas()\n",
    "panIO_predictions_pd = panIO_predictions_pd[[\"s\", \"pop\"]]\n",
    "panIO_predictions_pd['pop'].value_counts()\n",
    "panIO_predictions.write(\"/mnt/grid/janowitz/rdata/trigger/imputation_gwas/hail/ancestry_calls2.ht\", overwrite=True)\n"
   ]
  },
  {
   "cell_type": "markdown",
   "metadata": {},
   "source": [
    "## Generate cleaned dataset"
   ]
  },
  {
   "cell_type": "code",
   "execution_count": null,
   "metadata": {},
   "outputs": [],
   "source": [
    "#Import TCGA germline data post marker QC\n",
    "mt = hl.read_matrix_table('/mnt/grid/janowitz/rdata/trigger/imputation_gwas/raw_cts.mt')\n",
    "mt_filter = hl.read_matrix_table('/mnt/grid/janowitz/rdata/trigger/imputation_gwas/qc_cts.mt')\n",
    "\n",
    "#Filter to autosomal SNPs with MAF >0.1%\n",
    "mt = mt.filter_rows(mt.locus.in_autosome())\n",
    "mt = hl.variant_qc(mt) #Default Hail variant QC pipeline\n",
    "mt = mt.filter_rows(mt.variant_qc.AF[1] > 0.001) #MAF > 0.1%\n",
    "\n",
    "#Add ancestry data\n",
    "panIO_predictions = hl.read_table(\"/mnt/grid/janowitz/rdata/trigger/imputation_gwas/hail/ancestry_calls2.ht\")\n",
    "mt = mt.annotate_cols(pop = panIO_predictions[mt.s].pop)\n",
    "mt_filter = mt_filter.annotate_cols(pop = panIO_predictions[mt_filter.s].pop)\n",
    "\n",
    "#Filter to European population\n",
    "mt = mt.filter_cols(mt.pop=='EUR')\n",
    "mt_filter = mt_filter.filter_cols(mt_filter.pop=='EUR')\n",
    "\n",
    "#Remove related samples\n",
    "related_samples_to_remove = hl.read_table(\"/mnt/grid/janowitz/rdata/trigger/imputation_gwas/hail/related_remove_cts.ht\")\n",
    "mt = mt.filter_cols(~hl.is_defined(related_samples_to_remove[mt.col_key]))\n",
    "mt_filter = mt_filter.filter_cols(~hl.is_defined(related_samples_to_remove[mt_filter.col_key]))\n",
    "\n",
    "print(mt.count())\n",
    "\n",
    "#Generate principal components from high-quality SNPs with MAF >1% (selected above)\n",
    "mt_filter = hl.variant_qc(mt_filter) \n",
    "mt_filter = mt_filter.filter_rows(mt_filter.variant_qc.AF[1] > 0.01) #MAF > 1% to speed up PCA\n",
    "_, scores_pca_ref, _ = hl.hwe_normalized_pca(mt_filter.GT, k=4)\n",
    "\n",
    "p = hl.plot.scatter(scores_pca_ref.scores[0],\n",
    "                    scores_pca_ref.scores[1],\n",
    "                    title='PCA', xlabel='PC1', ylabel='PC2')\n",
    "show(p)\n",
    "\n",
    "scores_pca_ref = scores_pca_ref.transmute(**{f'PC{i}': scores_pca_ref.scores[i - 1] for i in range(1, 5)})\n",
    "scores_pd = scores_pca_ref.to_pandas()\n",
    "scores_pd = scores_pd.rename(columns={'s': 'IID'})\n",
    "\n",
    "scores_pd.to_csv('/mnt/grid/janowitz/rdata/trigger/imputation_gwas/hail/cts_pcs.tsv', sep=\"\\t\", index=False)"
   ]
  },
  {
   "cell_type": "markdown",
   "metadata": {},
   "source": [
    "## Extract DIRC3 SNP"
   ]
  },
  {
   "cell_type": "code",
   "execution_count": null,
   "metadata": {},
   "outputs": [],
   "source": [
    "mt = mt.filter_rows(mt.locus == hl.locus(\"2\", 218143731,reference_genome='GRCh37'))\n",
    "mt.count()\n",
    "\n",
    "variant2_entries = mt.entries().to_pandas()\n",
    "variant2_entries['score_allele'] = [','.join(map(str, l)) for l in variant2_entries['GT.alleles']]\n",
    "variant2_entries['score_allele'] = variant2_entries['score_allele'].map({'0,0': 0, '1,0': 1,\n",
    "                                                                            '0,1':1, '1,1':2})\n",
    "variant2_entries.to_csv('cts_dirc3_snp.csv', index=False)"
   ]
  }
 ],
 "metadata": {
  "kernelspec": {
   "display_name": "Python/3.7.4 (src)",
   "language": "python",
   "name": "python_3.7.4-gcccore-8.3.0"
  },
  "language_info": {
   "codemirror_mode": {
    "name": "ipython",
    "version": 3
   },
   "file_extension": ".py",
   "mimetype": "text/x-python",
   "name": "python",
   "nbconvert_exporter": "python",
   "pygments_lexer": "ipython3",
   "version": "3.7.4"
  }
 },
 "nbformat": 4,
 "nbformat_minor": 4
}
